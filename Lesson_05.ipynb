{
 "cells": [
  {
   "cell_type": "markdown",
   "id": "68988f98",
   "metadata": {},
   "source": [
    "### Урок 5. ДЗ ### \n",
    "\n",
    "1. Найти с помощью NumPy SVD для матрицы\n",
    "\n",
    "$$\\begin{pmatrix}\n",
    "1 & 2 & 0\\\\ \n",
    "0 & 0 & 5\\\\ \n",
    "3 & -4 & 2\\\\ \n",
    "1 & 6 & 5\\\\ \n",
    "0 & 1 & 0\n",
    "\\end{pmatrix}.$$\n"
   ]
  },
  {
   "cell_type": "code",
   "execution_count": 22,
   "id": "763ed217",
   "metadata": {},
   "outputs": [],
   "source": [
    "import numpy as np\n",
    "np.set_printoptions(precision=2, suppress=True)"
   ]
  },
  {
   "cell_type": "code",
   "execution_count": 23,
   "id": "8f6edef3",
   "metadata": {},
   "outputs": [
    {
     "data": {
      "text/plain": [
       "array([[ 1,  2,  0],\n",
       "       [ 0,  0,  5],\n",
       "       [ 3, -4,  2],\n",
       "       [ 1,  6,  5],\n",
       "       [ 0,  1,  0]])"
      ]
     },
     "execution_count": 23,
     "metadata": {},
     "output_type": "execute_result"
    }
   ],
   "source": [
    "A = np.array([[1, 2, 0],\n",
    "              [0, 0, 5],\n",
    "              [3, -4, 2],\n",
    "              [1, 6, 5],\n",
    "              [0, 1, 0]])\n",
    "A"
   ]
  },
  {
   "cell_type": "code",
   "execution_count": 24,
   "id": "ee5c9bf5",
   "metadata": {},
   "outputs": [],
   "source": [
    "U, s, W = np.linalg.svd(A)\n",
    "\n",
    "V = W.T\n",
    "\n",
    "D = np.zeros_like(A, dtype=float)\n",
    "D[np.diag_indices(min(A.shape))] = s"
   ]
  },
  {
   "cell_type": "code",
   "execution_count": 25,
   "id": "0aea3b93",
   "metadata": {},
   "outputs": [
    {
     "data": {
      "text/plain": [
       "array([[8.82, 0.  , 0.  ],\n",
       "       [0.  , 6.14, 0.  ],\n",
       "       [0.  , 0.  , 2.53],\n",
       "       [0.  , 0.  , 0.  ],\n",
       "       [0.  , 0.  , 0.  ]])"
      ]
     },
     "execution_count": 25,
     "metadata": {},
     "output_type": "execute_result"
    }
   ],
   "source": [
    "D"
   ]
  },
  {
   "cell_type": "code",
   "execution_count": 26,
   "id": "f5c7ec8f",
   "metadata": {},
   "outputs": [
    {
     "data": {
      "text/plain": [
       "array([[ 0.17,  0.16, -0.53, -0.8 , -0.16],\n",
       "       [ 0.39, -0.53,  0.61, -0.43,  0.03],\n",
       "       [-0.14, -0.82, -0.52,  0.14,  0.07],\n",
       "       [ 0.89,  0.06, -0.25,  0.38, -0.06],\n",
       "       [ 0.08,  0.11, -0.08, -0.11,  0.98]])"
      ]
     },
     "execution_count": 26,
     "metadata": {},
     "output_type": "execute_result"
    }
   ],
   "source": [
    "U"
   ]
  },
  {
   "cell_type": "code",
   "execution_count": 27,
   "id": "acfc8688",
   "metadata": {},
   "outputs": [
    {
     "data": {
      "text/plain": [
       "array([[ 1.,  0., -0., -0., -0.],\n",
       "       [ 0.,  1.,  0., -0.,  0.],\n",
       "       [-0.,  0.,  1., -0., -0.],\n",
       "       [-0., -0., -0.,  1., -0.],\n",
       "       [-0.,  0., -0., -0.,  1.]])"
      ]
     },
     "execution_count": 27,
     "metadata": {},
     "output_type": "execute_result"
    }
   ],
   "source": [
    "np.dot(U.T, U)"
   ]
  },
  {
   "cell_type": "code",
   "execution_count": 28,
   "id": "cedfc665",
   "metadata": {},
   "outputs": [
    {
     "data": {
      "text/plain": [
       "array([[ 0.07, -0.37, -0.93],\n",
       "       [ 0.72,  0.67, -0.21],\n",
       "       [ 0.69, -0.65,  0.31]])"
      ]
     },
     "execution_count": 28,
     "metadata": {},
     "output_type": "execute_result"
    }
   ],
   "source": [
    "V"
   ]
  },
  {
   "cell_type": "code",
   "execution_count": 29,
   "id": "ebcfad44",
   "metadata": {},
   "outputs": [
    {
     "data": {
      "text/plain": [
       "array([[ 1.,  0.,  0.],\n",
       "       [ 0.,  1., -0.],\n",
       "       [ 0., -0.,  1.]])"
      ]
     },
     "execution_count": 29,
     "metadata": {},
     "output_type": "execute_result"
    }
   ],
   "source": [
    "np.dot(V.T, V)"
   ]
  },
  {
   "cell_type": "code",
   "execution_count": 30,
   "id": "ba72b75c",
   "metadata": {},
   "outputs": [
    {
     "data": {
      "text/plain": [
       "array([[ 1.,  2.,  0.],\n",
       "       [ 0., -0.,  5.],\n",
       "       [ 3., -4.,  2.],\n",
       "       [ 1.,  6.,  5.],\n",
       "       [-0.,  1.,  0.]])"
      ]
     },
     "execution_count": 30,
     "metadata": {},
     "output_type": "execute_result"
    }
   ],
   "source": [
    "#проверка\n",
    "np.dot(np.dot(U, D), V.T)"
   ]
  },
  {
   "cell_type": "markdown",
   "id": "ee2079bc",
   "metadata": {},
   "source": [
    "<hr>\n",
    "\n",
    "2. Для матрицы из предыдущего задания найти:\n",
    "\n",
    "    а) евклидову норму;\n",
    "    \n",
    "    б) норму Фробениуса."
   ]
  },
  {
   "cell_type": "code",
   "execution_count": 37,
   "id": "9ae794ee",
   "metadata": {},
   "outputs": [
    {
     "data": {
      "text/plain": [
       "(8.824868854820442, 8.824868854820444)"
      ]
     },
     "execution_count": 37,
     "metadata": {},
     "output_type": "execute_result"
    }
   ],
   "source": [
    "# Евклидова норма\n",
    "max(s), np.linalg.norm(A, ord=2)"
   ]
  },
  {
   "cell_type": "code",
   "execution_count": 39,
   "id": "98953bb4",
   "metadata": {},
   "outputs": [
    {
     "data": {
      "text/plain": [
       "(11.045361017187261, 11.045361017187261)"
      ]
     },
     "execution_count": 39,
     "metadata": {},
     "output_type": "execute_result"
    }
   ],
   "source": [
    "# норма Фробениуса\n",
    "\n",
    "def frob_norm(A, s):\n",
    "    \"\"\"\n",
    "    функция расчета нормы Фробениуса\n",
    "    \"\"\"\n",
    "    result = 0\n",
    "    for i in range(np.linalg.matrix_rank(A)):\n",
    "        result += s[i]**2\n",
    "    return np.sqrt(result)\n",
    "\n",
    "np.linalg.norm(A, ord='fro'), frob_norm(A, s)"
   ]
  }
 ],
 "metadata": {
  "kernelspec": {
   "display_name": "Python 3",
   "language": "python",
   "name": "python3"
  },
  "language_info": {
   "codemirror_mode": {
    "name": "ipython",
    "version": 3
   },
   "file_extension": ".py",
   "mimetype": "text/x-python",
   "name": "python",
   "nbconvert_exporter": "python",
   "pygments_lexer": "ipython3",
   "version": "3.8.8"
  }
 },
 "nbformat": 4,
 "nbformat_minor": 5
}
