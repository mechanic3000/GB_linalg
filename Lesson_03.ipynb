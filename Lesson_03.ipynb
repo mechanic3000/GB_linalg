{
 "cells": [
  {
   "cell_type": "markdown",
   "id": "1ad65d4d",
   "metadata": {},
   "source": [
    "### Урок №3. ДЗ ###\n",
    "\n",
    "1. Найти собственные векторы и собственные значения для линейного оператора, заданного матрицей\n",
    "\n",
    "$$A=\\begin{pmatrix}\n",
    "-1 & -6\\\\ \n",
    "2 & 6\n",
    "\\end{pmatrix}.$$"
   ]
  },
  {
   "cell_type": "markdown",
   "id": "edc9cbc5",
   "metadata": {},
   "source": [
    "$$\\begin{vmatrix}\n",
    "-1-\\lambda & -6\\\\ \n",
    "2 & 6-\\lambda\n",
    "\\end{vmatrix}=0$$\n",
    "\n",
    "$$(-1-\\lambda)(6-\\lambda) - (2 \\cdot -6) = 0$$"
   ]
  },
  {
   "cell_type": "markdown",
   "id": "6e911690",
   "metadata": {},
   "source": [
    "$$ \\lambda^2 - 5\\lambda + 6 = 0$$\n",
    "$$ D = 25-4\\cdot1\\cdot6 = 1$$\n",
    "$$ \\lambda_{1} = 3, \\lambda_{2} = 2$$"
   ]
  },
  {
   "cell_type": "markdown",
   "id": "bcd04193",
   "metadata": {},
   "source": [
    "Собственный вектор для $\\lambda_{1}=2$\n",
    "$$ \\begin{pmatrix}\n",
    "-1 & -6\\\\ \n",
    "2 & 6\n",
    "\\end{pmatrix} \\cdot \\begin{pmatrix}\n",
    "x_{1}\\\\ \n",
    "x_{2}\n",
    "\\end{pmatrix} = \\lambda\\begin{pmatrix}\n",
    "x_{1}\\\\ \n",
    "x_{2}\n",
    "\\end{pmatrix}$$"
   ]
  },
  {
   "cell_type": "markdown",
   "id": "9c33d1fd",
   "metadata": {},
   "source": [
    "$$\\begin{cases}\n",
    "-x_{1}-6x_{2}= 2x_{1}, \\\\\n",
    "2x_{1}+6x_{2}= 2x_{2}.\n",
    "\\end{cases}$$ \n",
    "\n",
    "$$\\begin{cases}\n",
    "-x_{1}-6x_{2} - 2x_{1} = 0, \\\\\n",
    "2x_{1}+6x_{2} - 2x_{2} = 0\n",
    "\\end{cases}$$ "
   ]
  },
  {
   "cell_type": "markdown",
   "id": "53608a3e",
   "metadata": {},
   "source": [
    "$$\\begin{cases}\n",
    "-3x_{1}-6x_{2}=0, \\\\\n",
    "2x_{1}+4x_{2}=0.\n",
    "\\end{cases}$$ "
   ]
  },
  {
   "cell_type": "markdown",
   "id": "d7c6b0e0",
   "metadata": {},
   "source": [
    "$$\\begin{cases}\n",
    "x_{1} = -2x_{2} \\\\\n",
    "x_{1} = -2x_{2}\n",
    "\\end{cases}$$ \n",
    "\n",
    "$$x_{1} = -2x_{2}$$\n",
    "\n",
    "Допустим $x_{2} = -1$, то $x_{1} = -2(-1) = 2$, следовательно получим вектор $ \\begin{pmatrix}\n",
    "2\\\\ \n",
    "-1\n",
    "\\end{pmatrix}$"
   ]
  },
  {
   "cell_type": "markdown",
   "id": "e036007e",
   "metadata": {},
   "source": [
    "Собственный вектор для $\\lambda_{2}=3$\n",
    "$$\\begin{cases}\n",
    "-x_{1}-6x_{2}= 3x_{1}, \\\\\n",
    "2x_{1}+6x_{2}= 3x_{2}.\n",
    "\\end{cases}$$ \n",
    "\n",
    "$$\\begin{cases}\n",
    "-x_{1}-6x_{2} - 3x_{1} = 0, \\\\\n",
    "2x_{1}+6x_{2} - 3x_{2} = 0\n",
    "\\end{cases}$$ \n",
    "\n",
    "$$\\begin{cases}\n",
    "-4x_{1}-6x_{2} = 0, \\\\\n",
    "2x_{1}+3x_{2}= 0\n",
    "\\end{cases}$$ "
   ]
  },
  {
   "cell_type": "markdown",
   "id": "1e03e35a",
   "metadata": {},
   "source": [
    "$$x_{1} = -\\frac{3}{2}x_{2}$$\n",
    "Допустим, что $x_{2} = -2$, то $x_{1} = 3$, следовательно получим вектор $ \\begin{pmatrix}\n",
    "3\\\\ \n",
    "-2\n",
    "\\end{pmatrix}$"
   ]
  },
  {
   "cell_type": "markdown",
   "id": "34d505bc",
   "metadata": {},
   "source": [
    "<HR>\n",
    "    \n",
    "__2.__ Дан оператор поворота на 180 градусов, задаваемый матрицей \n",
    "\n",
    "$$A=\\begin{pmatrix}\n",
    "-1 & 0\\\\ \n",
    "0 & -1\n",
    "\\end{pmatrix}.$$\n",
    "\n",
    "Показать, что __любой__ вектор является для него собственным."
   ]
  },
  {
   "cell_type": "markdown",
   "id": "c32f07ea",
   "metadata": {},
   "source": [
    "$$\\begin{vmatrix}\n",
    "-1-\\lambda & 0\\\\ \n",
    "0 & -1-\\lambda\n",
    "\\end{vmatrix}=0$$"
   ]
  },
  {
   "cell_type": "markdown",
   "id": "09cb117e",
   "metadata": {},
   "source": [
    "$(-1-\\lambda)(-1-\\lambda) - 0 = 0$\n",
    "\n",
    "$ (-1 -\\lambda)^2 = 0$\n",
    "\n",
    "$ \\lambda = -1 $"
   ]
  },
  {
   "cell_type": "markdown",
   "id": "6423b8e6",
   "metadata": {},
   "source": [
    "Так как \n",
    "$$ \\begin{pmatrix}\n",
    "-1 & 0\\\\ \n",
    "0 & -1\n",
    "\\end{pmatrix} \\cdot \\begin{pmatrix}\n",
    "x_{1}\\\\ \n",
    "x_{2}\n",
    "\\end{pmatrix} = -1 \\begin{pmatrix}\n",
    "x_{1}\\\\ \n",
    "x_{2}\n",
    "\\end{pmatrix}$$ то любой вектор будет являться собственным для заданного оператора"
   ]
  },
  {
   "cell_type": "markdown",
   "id": "833bcd73",
   "metadata": {},
   "source": [
    "<hr>\n",
    "\n",
    "__3.__ Пусть линейный оператор задан матрицей\n",
    "\n",
    "$$A=\\begin{pmatrix}\n",
    "1 & 1\\\\ \n",
    "-1 & 3\n",
    "\\end{pmatrix}.$$\n",
    "\n",
    "Установить, является ли вектор $x=(1,1)$ собственным вектором этого линейного оператора."
   ]
  },
  {
   "cell_type": "markdown",
   "id": "515c9b0e",
   "metadata": {},
   "source": [
    "Допустим, что вектор x является собственным вектором этого линейного оператора, тогда"
   ]
  },
  {
   "cell_type": "markdown",
   "id": "be6d72e2",
   "metadata": {},
   "source": [
    "$$ \\begin{pmatrix}\n",
    "1 & 1\\\\ \n",
    "-1 & 3\n",
    "\\end{pmatrix} \\cdot \\begin{pmatrix}\n",
    "1\\\\ \n",
    "1\n",
    "\\end{pmatrix} = \\lambda \\begin{pmatrix}\n",
    "1\\\\ \n",
    "1\n",
    "\\end{pmatrix}$$"
   ]
  },
  {
   "cell_type": "markdown",
   "id": "bbc45512",
   "metadata": {},
   "source": [
    "$\\begin{cases}\n",
    "1+1= \\lambda, \\\\\n",
    "-1 + 3 = \\lambda\n",
    "\\end{cases}$ => $\\lambda=2$\n",
    "\n",
    "Отсюда следует, что вектор $x=(1,1)$ является собственным вектором заданного линейного оператора"
   ]
  },
  {
   "cell_type": "markdown",
   "id": "ca8d3e85",
   "metadata": {},
   "source": [
    "<hr>\n",
    "\n",
    "**4.** Пусть линейный оператор задан матрицей\n",
    "\n",
    "$$A=\\begin{pmatrix} 0 & 3 & 0\\\\ 3 & 0 & 0\\\\ 0 & 0 & 3 \\end{pmatrix}.$$\n",
    "\n",
    "Установить, является ли вектор $x=(3, -3, -4)$ собственным вектором этого линейного оператора."
   ]
  },
  {
   "cell_type": "markdown",
   "id": "e4b53c03",
   "metadata": {},
   "source": [
    "Допустим, что вектор x является собственным вектором этого линейного оператора, тогда"
   ]
  },
  {
   "cell_type": "markdown",
   "id": "b13ac92d",
   "metadata": {},
   "source": [
    "$$ \\begin{pmatrix}\n",
    "0 & 3 & 0\\\\ \n",
    "3 & 0 & 0 \\\\\n",
    "0 & 0 & 3\n",
    "\\end{pmatrix} \\cdot \\begin{pmatrix}\n",
    "3\\\\ \n",
    "-3\\\\\n",
    "-4\n",
    "\\end{pmatrix} = \\lambda \\begin{pmatrix}\n",
    "3\\\\ \n",
    "-3\\\\\n",
    "-4\n",
    "\\end{pmatrix}$$"
   ]
  },
  {
   "cell_type": "markdown",
   "id": "b0185c22",
   "metadata": {},
   "source": [
    "$\\begin{cases}\n",
    "0 - 9 + 0 = 3\\lambda, \\\\\n",
    "9 - 0 - 0 = -3\\lambda,\\\\\n",
    "0 - 0 - 12 = -4\\lambda \n",
    "\\end{cases}$ => $\\begin{cases}\n",
    "\\lambda = -3, \\\\\n",
    "\\lambda = -3,\\\\\n",
    "\\lambda = 3\n",
    "\\end{cases}$\n",
    "\n",
    "отсюда можно сделать вывод, что вектор x не является собственным вектором данноого линейного оператора"
   ]
  }
 ],
 "metadata": {
  "kernelspec": {
   "display_name": "Python 3",
   "language": "python",
   "name": "python3"
  },
  "language_info": {
   "codemirror_mode": {
    "name": "ipython",
    "version": 3
   },
   "file_extension": ".py",
   "mimetype": "text/x-python",
   "name": "python",
   "nbconvert_exporter": "python",
   "pygments_lexer": "ipython3",
   "version": "3.8.8"
  }
 },
 "nbformat": 4,
 "nbformat_minor": 5
}
