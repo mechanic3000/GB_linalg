{
 "cells": [
  {
   "cell_type": "markdown",
   "id": "c6f437fb",
   "metadata": {},
   "source": [
    "### Урок 4. ДЗ Часть 1 ###\n",
    "\n",
    "__1.__ Решить систему уравнений методом Гаусса:\n",
    "\n",
    "$$\\begin{cases}\n",
    "x_{1}+x_{2}-x_{3}-2x_{4}=0, \\\\\n",
    "2x_{1}+x_{2}-x_{3}+x_{4}=-2, \\\\\n",
    "x_{1}+x_{2}-3x_{3}+x_{4}=4.\n",
    "\\end{cases}$$"
   ]
  },
  {
   "cell_type": "code",
   "execution_count": 1,
   "id": "350a665b",
   "metadata": {},
   "outputs": [],
   "source": [
    "import numpy as np\n",
    "import fractions"
   ]
  },
  {
   "cell_type": "code",
   "execution_count": 2,
   "id": "8b493221",
   "metadata": {},
   "outputs": [],
   "source": [
    "A = np.array([[1, 1, -1, -2],\n",
    "             [2, 1, -1, 1],\n",
    "             [1, 1, -3, 1]])\n",
    "B = np.array([[0], [-2], [4]])"
   ]
  },
  {
   "cell_type": "code",
   "execution_count": 3,
   "id": "c3b5e0b9",
   "metadata": {
    "scrolled": true
   },
   "outputs": [
    {
     "data": {
      "text/plain": [
       "array([[ 1,  1, -1, -2,  0],\n",
       "       [ 2,  1, -1,  1, -2],\n",
       "       [ 1,  1, -3,  1,  4]])"
      ]
     },
     "execution_count": 3,
     "metadata": {},
     "output_type": "execute_result"
    }
   ],
   "source": [
    "A_ = np.append(A, B, axis=1)\n",
    "A_"
   ]
  },
  {
   "cell_type": "code",
   "execution_count": 4,
   "id": "33b3bcb4",
   "metadata": {},
   "outputs": [
    {
     "data": {
      "text/plain": [
       "array([[ 1,  1, -1, -2,  0],\n",
       "       [ 0, -1,  1,  5, -2],\n",
       "       [ 1,  1, -3,  1,  4]])"
      ]
     },
     "execution_count": 4,
     "metadata": {},
     "output_type": "execute_result"
    }
   ],
   "source": [
    "A_[1] = A_[1] + A_[0]*(-2)\n",
    "A_"
   ]
  },
  {
   "cell_type": "code",
   "execution_count": 5,
   "id": "367b2ddc",
   "metadata": {},
   "outputs": [
    {
     "data": {
      "text/plain": [
       "array([[ 1,  1, -1, -2,  0],\n",
       "       [ 0, -1,  1,  5, -2],\n",
       "       [ 0,  0, -2,  3,  4]])"
      ]
     },
     "execution_count": 5,
     "metadata": {},
     "output_type": "execute_result"
    }
   ],
   "source": [
    "A_[2] = A_[2] + A_[0]*(-1)\n",
    "A_"
   ]
  },
  {
   "cell_type": "markdown",
   "id": "6d806963",
   "metadata": {},
   "source": [
    "Система имеет бесконечное количество решений \n",
    "$$\\begin{cases}\n",
    "x_{1}+x_{2}-x_{3}-2x_{4}=0, \\\\\n",
    "-x_{2}+x_{3}+5x_{4}=-2, \\\\\n",
    "-2x_{3}+3x_{4}=4.\n",
    "\\end{cases}$$"
   ]
  },
  {
   "cell_type": "markdown",
   "id": "a57c0fd7",
   "metadata": {},
   "source": [
    "Допустим, что $x_{4}=c$, то \n",
    "$$\n",
    "-2x_{3} = 4-3c \\Leftrightarrow x_{3} =\\frac{3}{2}c - 2 ,\\\\\n",
    "x_{2} = 2 + \\frac{3}{2}c - 2 + 5c \\Leftrightarrow x_{2} = \\frac{3}{2}c + 5c\\\\\n",
    "x_{1} = -\\frac{3}{2}c - 5c + \\frac{3}{2}c - 2 + 2c \\Leftrightarrow x_{1} = -2 - 3c\n",
    "$$"
   ]
  },
  {
   "cell_type": "markdown",
   "id": "e9f4f6d9",
   "metadata": {},
   "source": [
    "При $c=0$ получим\n",
    "$$ \n",
    "x_{1} = -2\\\\\n",
    "x_{2} = 0\\\\\n",
    "x_{3} = -2\\\\\n",
    "x_{4} = 0\n",
    "$$\n",
    "Проверка\n",
    "$$\n",
    "\\begin{cases}\n",
    "-2 + 0 + 2 -0 = 0\\\\\n",
    "-4 + 0 + 2 + 0 = -2\\\\\n",
    "-2 + 0 + 6 + 0 = 4\n",
    "\\end{cases}\n",
    "$$"
   ]
  },
  {
   "cell_type": "markdown",
   "id": "fb016353",
   "metadata": {},
   "source": [
    "<hr>\n",
    "\n",
    "__2.__ Проверить на совместность и выяснить, сколько решений будет иметь система линейных уравнений:\n",
    "\n",
    "   а) $\\begin{cases}\n",
    "3x_{1}-x_{2}+x_{3}=4, \\\\\n",
    "2x_{1}-5x_{2}-3x_{3}=-17, \\\\\n",
    "x_{1}+x_{2}-x_{3}=0;\n",
    "\\end{cases}$\n",
    "    \n",
    "   б) $\\begin{cases}\n",
    "2x_{1}-4x_{2}+6x_{3}=1, \\\\\n",
    "x_{1}-2x_{2}+3x_{3}=-2, \\\\\n",
    "3x_{1}-6x_{2}+9x_{3}=5;\n",
    "\\end{cases}$\n",
    "    \n",
    "   в) $\\begin{cases}\n",
    "x_{1}+2x_{2}+5x_{3}=4, \\\\\n",
    "3x_{1}+x_{2}-8x_{3}=-2. \n",
    "\\end{cases}$"
   ]
  },
  {
   "cell_type": "code",
   "execution_count": 6,
   "id": "5e66eef0",
   "metadata": {},
   "outputs": [],
   "source": [
    "np.set_printoptions(formatter={'all':lambda x: str(fractions.Fraction(x).limit_denominator())})"
   ]
  },
  {
   "cell_type": "code",
   "execution_count": 7,
   "id": "76a5bd5b",
   "metadata": {},
   "outputs": [
    {
     "data": {
      "text/plain": [
       "array([[3, -1, 1, 4],\n",
       "       [2, -5, -3, -17],\n",
       "       [1, 1, -1, 0]])"
      ]
     },
     "execution_count": 7,
     "metadata": {},
     "output_type": "execute_result"
    }
   ],
   "source": [
    "# a\n",
    "\n",
    "n = 3 # количество переменных\n",
    "A  = np.array([[3, -1, 1],\n",
    "               [2, -5, -3],\n",
    "               [1, 1, -1]], float)\n",
    "B = np.array([[4], [-17], [0]])\n",
    "\n",
    "A_ = np.append(A, B, axis=1)\n",
    "A_"
   ]
  },
  {
   "cell_type": "code",
   "execution_count": 8,
   "id": "78f3fdd0",
   "metadata": {},
   "outputs": [
    {
     "data": {
      "text/plain": [
       "array([[1, -1/3, 1/3, 4/3],\n",
       "       [2, -5, -3, -17],\n",
       "       [1, 1, -1, 0]])"
      ]
     },
     "execution_count": 8,
     "metadata": {},
     "output_type": "execute_result"
    }
   ],
   "source": [
    "A_[0] = A_[0]/3\n",
    "A_"
   ]
  },
  {
   "cell_type": "code",
   "execution_count": 9,
   "id": "0be093c7",
   "metadata": {},
   "outputs": [
    {
     "data": {
      "text/plain": [
       "array([[1, -1/3, 1/3, 4/3],\n",
       "       [0, -13/3, -11/3, -59/3],\n",
       "       [1, 1, -1, 0]])"
      ]
     },
     "execution_count": 9,
     "metadata": {},
     "output_type": "execute_result"
    }
   ],
   "source": [
    "A_[1] = A_[1] - A_[0] * 2\n",
    "A_"
   ]
  },
  {
   "cell_type": "code",
   "execution_count": 10,
   "id": "93ab05e5",
   "metadata": {},
   "outputs": [
    {
     "data": {
      "text/plain": [
       "array([[1, -1/3, 1/3, 4/3],\n",
       "       [0, -13/3, -11/3, -59/3],\n",
       "       [0, 4/3, -4/3, -4/3]])"
      ]
     },
     "execution_count": 10,
     "metadata": {},
     "output_type": "execute_result"
    }
   ],
   "source": [
    "A_[2] = A_[2] - A_[0]\n",
    "A_"
   ]
  },
  {
   "cell_type": "code",
   "execution_count": 11,
   "id": "1435f498",
   "metadata": {},
   "outputs": [
    {
     "data": {
      "text/plain": [
       "array([[1, -1/3, 1/3, 4/3],\n",
       "       [0, 1, 11/13, 59/13],\n",
       "       [0, 4/3, -4/3, -4/3]])"
      ]
     },
     "execution_count": 11,
     "metadata": {},
     "output_type": "execute_result"
    }
   ],
   "source": [
    "A_[1] = A_[1] * -(3/13)\n",
    "A_"
   ]
  },
  {
   "cell_type": "code",
   "execution_count": 12,
   "id": "d53a8ab3",
   "metadata": {
    "scrolled": true
   },
   "outputs": [
    {
     "data": {
      "text/plain": [
       "array([[1, -1/3, 1/3, 4/3],\n",
       "       [0, 1, 11/13, 59/13],\n",
       "       [0, 0, -32/13, -96/13]])"
      ]
     },
     "execution_count": 12,
     "metadata": {},
     "output_type": "execute_result"
    }
   ],
   "source": [
    "A_[2] = A_[2] - A_[1]*(4/3)\n",
    "A_"
   ]
  },
  {
   "cell_type": "code",
   "execution_count": 13,
   "id": "47ddd14f",
   "metadata": {
    "scrolled": true
   },
   "outputs": [
    {
     "data": {
      "text/plain": [
       "array([[1, -1/3, 1/3, 4/3],\n",
       "       [0, 1, 11/13, 59/13],\n",
       "       [0, 0, 1, 3]])"
      ]
     },
     "execution_count": 13,
     "metadata": {},
     "output_type": "execute_result"
    }
   ],
   "source": [
    "A_[2] = A_[2] * -(13/32)\n",
    "A_"
   ]
  },
  {
   "cell_type": "code",
   "execution_count": 14,
   "id": "a102355e",
   "metadata": {},
   "outputs": [
    {
     "data": {
      "text/plain": [
       "(3, 3, 3)"
      ]
     },
     "execution_count": 14,
     "metadata": {},
     "output_type": "execute_result"
    }
   ],
   "source": [
    "np.linalg.matrix_rank(A), np.linalg.matrix_rank(A_), n"
   ]
  },
  {
   "cell_type": "markdown",
   "id": "a34b45ed",
   "metadata": {},
   "source": [
    "$rang(A) = rang(A|B) = n$ -> система уравнений совместная и определена"
   ]
  },
  {
   "cell_type": "code",
   "execution_count": 15,
   "id": "424da361",
   "metadata": {},
   "outputs": [
    {
     "data": {
      "text/plain": [
       "array([[2, -4, 6, 1],\n",
       "       [1, -2, 3, -2],\n",
       "       [3, -6, 9, 5]])"
      ]
     },
     "execution_count": 15,
     "metadata": {},
     "output_type": "execute_result"
    }
   ],
   "source": [
    "# б\n",
    "\n",
    "n = 3 # количество переменных\n",
    "A  = np.array([[2, -4, 6],\n",
    "               [1, -2, 3],\n",
    "               [3, -6, 9]], float)\n",
    "B = np.array([[1], [-2], [5]])\n",
    "\n",
    "A_ = np.append(A, B, axis=1)\n",
    "A_"
   ]
  },
  {
   "cell_type": "code",
   "execution_count": 16,
   "id": "6d3cc384",
   "metadata": {},
   "outputs": [
    {
     "data": {
      "text/plain": [
       "array([[2, -4, 6, 1],\n",
       "       [0, 0, 0, -5/2],\n",
       "       [3, -6, 9, 5]])"
      ]
     },
     "execution_count": 16,
     "metadata": {},
     "output_type": "execute_result"
    }
   ],
   "source": [
    "A_[1] = A_[1] - A_[0]*.5\n",
    "A_"
   ]
  },
  {
   "cell_type": "code",
   "execution_count": 17,
   "id": "709d6d0b",
   "metadata": {},
   "outputs": [
    {
     "data": {
      "text/plain": [
       "array([[2, -4, 6, 1],\n",
       "       [0, 0, 0, -5/2],\n",
       "       [0, 0, 0, -5/2]])"
      ]
     },
     "execution_count": 17,
     "metadata": {},
     "output_type": "execute_result"
    }
   ],
   "source": [
    "A_[2] = A_[0]*A_[1]\n",
    "A_"
   ]
  },
  {
   "cell_type": "code",
   "execution_count": 18,
   "id": "9c30c6c2",
   "metadata": {},
   "outputs": [
    {
     "data": {
      "text/plain": [
       "array([[2, -4, 6, 1],\n",
       "       [0, 0, 0, -5/2],\n",
       "       [0, 0, 0, 0]])"
      ]
     },
     "execution_count": 18,
     "metadata": {},
     "output_type": "execute_result"
    }
   ],
   "source": [
    "A_[2] = A_[1] - A_[1]\n",
    "A_"
   ]
  },
  {
   "cell_type": "code",
   "execution_count": 19,
   "id": "48a84017",
   "metadata": {},
   "outputs": [
    {
     "data": {
      "text/plain": [
       "(1, 2, 3)"
      ]
     },
     "execution_count": 19,
     "metadata": {},
     "output_type": "execute_result"
    }
   ],
   "source": [
    "np.linalg.matrix_rank(A), np.linalg.matrix_rank(A_), n"
   ]
  },
  {
   "cell_type": "markdown",
   "id": "e06c70b3",
   "metadata": {},
   "source": [
    "$rang(A) \\neq rang(A|B) \\neq n$ -> система уравнений несовместная"
   ]
  },
  {
   "cell_type": "code",
   "execution_count": 20,
   "id": "dbd1a8b3",
   "metadata": {},
   "outputs": [
    {
     "data": {
      "text/plain": [
       "array([[1, 2, 5, 4],\n",
       "       [3, 1, -8, -2]])"
      ]
     },
     "execution_count": 20,
     "metadata": {},
     "output_type": "execute_result"
    }
   ],
   "source": [
    "# в\n",
    "\n",
    "n = 3 # количество переменных\n",
    "A  = np.array([[1, 2, 5],\n",
    "               [3, 1, -8]], float)\n",
    "B = np.array([[4], [-2]])\n",
    "\n",
    "A_ = np.append(A, B, axis=1)\n",
    "A_"
   ]
  },
  {
   "cell_type": "code",
   "execution_count": 21,
   "id": "8bad97d7",
   "metadata": {},
   "outputs": [
    {
     "data": {
      "text/plain": [
       "array([[1, 2, 5, 4],\n",
       "       [0, -5, -23, -14]])"
      ]
     },
     "execution_count": 21,
     "metadata": {},
     "output_type": "execute_result"
    }
   ],
   "source": [
    "A_[1] = A_[1] - A_[0]*3\n",
    "A_"
   ]
  },
  {
   "cell_type": "code",
   "execution_count": 22,
   "id": "c34c3b80",
   "metadata": {},
   "outputs": [
    {
     "data": {
      "text/plain": [
       "(2, 2, 3)"
      ]
     },
     "execution_count": 22,
     "metadata": {},
     "output_type": "execute_result"
    }
   ],
   "source": [
    "np.linalg.matrix_rank(A), np.linalg.matrix_rank(A_), n"
   ]
  },
  {
   "cell_type": "markdown",
   "id": "627044b6",
   "metadata": {},
   "source": [
    "$rang(A) = rang(A|B) < n$ -> система уравнений совместная, но не определена"
   ]
  },
  {
   "cell_type": "markdown",
   "id": "381a01b2",
   "metadata": {},
   "source": [
    "<hr>\n",
    "\n",
    "__3.__ Проверить на совместность и выяснить, сколько решений будет иметь система линейных уравнений, заданная расширенной матрицей\n",
    "\n",
    "$$\\tilde{A}=\\begin{pmatrix}\n",
    "\\left.\\begin{matrix}\n",
    "1 & 3 & -2 & 4\\\\ \n",
    "0 & 5 & 0 & 1\\\\ \n",
    "0 & 0 & 3 & 0\\\\ \n",
    "0 & 0 & 0 & 2\n",
    "\\end{matrix}\\right|\n",
    "\\begin{matrix}\n",
    "3\\\\ \n",
    "2\\\\\n",
    "4\\\\\n",
    "1\n",
    "\\end{matrix}\n",
    "\\end{pmatrix}.$$"
   ]
  },
  {
   "cell_type": "code",
   "execution_count": 23,
   "id": "76c0f9be",
   "metadata": {},
   "outputs": [
    {
     "data": {
      "text/plain": [
       "array([[1, 3, -2, 4, 3],\n",
       "       [0, 5, 0, -1, 2],\n",
       "       [0, 0, 3, 0, 4],\n",
       "       [0, 0, 0, 2, 1]])"
      ]
     },
     "execution_count": 23,
     "metadata": {},
     "output_type": "execute_result"
    }
   ],
   "source": [
    "n = 4 # количество переменных\n",
    "A  = np.array([[1, 3, -2, 4],\n",
    "               [0, 5, 0, -1],\n",
    "               [0, 0, 3, 0],\n",
    "               [0, 0, 0, 2]], float)\n",
    "B = np.array([[3], [2], [4], [1]])\n",
    "\n",
    "A_ = np.append(A, B, axis=1)\n",
    "A_"
   ]
  },
  {
   "cell_type": "code",
   "execution_count": 24,
   "id": "18a413b7",
   "metadata": {},
   "outputs": [
    {
     "data": {
      "text/plain": [
       "(4, 4, 4)"
      ]
     },
     "execution_count": 24,
     "metadata": {},
     "output_type": "execute_result"
    }
   ],
   "source": [
    "np.linalg.matrix_rank(A), np.linalg.matrix_rank(A_), n"
   ]
  },
  {
   "cell_type": "markdown",
   "id": "37e24b34",
   "metadata": {},
   "source": [
    "Система совместна и определена -> имеет одно решение"
   ]
  },
  {
   "cell_type": "markdown",
   "id": "f9d00850",
   "metadata": {},
   "source": [
    "<hr>\n",
    "\n",
    "__4.__ Дана система линейных уравнений, заданная расширенной матрицей\n",
    "\n",
    "$$\\tilde{A}=\\begin{pmatrix}\n",
    "\\left.\\begin{matrix}\n",
    "1 & 2 & 3\\\\ \n",
    "4 & 5 & 6\\\\ \n",
    "7 & 8 & 9\n",
    "\\end{matrix}\\right|\n",
    "\\begin{matrix}\n",
    "a\\\\ \n",
    "b\\\\\n",
    "c\n",
    "\\end{matrix}\n",
    "\\end{pmatrix}.$$\n",
    "\n",
    "Найти соотношение между параметрами $a$, $b$ и $c$, при которых система является несовместной."
   ]
  },
  {
   "cell_type": "code",
   "execution_count": 25,
   "id": "465436c8",
   "metadata": {},
   "outputs": [],
   "source": [
    "import sympy as sp"
   ]
  },
  {
   "cell_type": "code",
   "execution_count": 26,
   "id": "a73e225e",
   "metadata": {
    "scrolled": false
   },
   "outputs": [
    {
     "data": {
      "text/latex": [
       "$\\displaystyle \\left[\\begin{matrix}1 & 2 & 3 & a\\\\4 & 5 & 6 & b\\\\7 & 8 & 9 & c\\end{matrix}\\right]$"
      ],
      "text/plain": [
       "Matrix([\n",
       "[1, 2, 3, a],\n",
       "[4, 5, 6, b],\n",
       "[7, 8, 9, c]])"
      ]
     },
     "execution_count": 26,
     "metadata": {},
     "output_type": "execute_result"
    }
   ],
   "source": [
    "n = 3 # количество переменных\n",
    "\n",
    "a, b, c = sp.symbols('a b c')\n",
    "\n",
    "A  = sp.Matrix([[1, 2, 3],\n",
    "               [4, 5, 6],\n",
    "               [7, 8, 9]])\n",
    "B = sp.Matrix([[a], [b], [c]])\n",
    "\n",
    "A_ = A.col_insert(3, B)\n",
    "A_"
   ]
  },
  {
   "cell_type": "code",
   "execution_count": 27,
   "id": "3ec5464d",
   "metadata": {
    "scrolled": true
   },
   "outputs": [
    {
     "data": {
      "text/latex": [
       "$\\displaystyle \\left[\\begin{matrix}1 & 2 & 3 & a\\\\0 & 3 & 6 & 4 a - b\\\\7 & 8 & 9 & c\\end{matrix}\\right]$"
      ],
      "text/plain": [
       "Matrix([\n",
       "[1, 2, 3,       a],\n",
       "[0, 3, 6, 4*a - b],\n",
       "[7, 8, 9,       c]])"
      ]
     },
     "execution_count": 27,
     "metadata": {},
     "output_type": "execute_result"
    }
   ],
   "source": [
    "A_[1,:] = A_[0,:] * 4 - A_[1,:]\n",
    "A_"
   ]
  },
  {
   "cell_type": "code",
   "execution_count": 28,
   "id": "ba404783",
   "metadata": {
    "scrolled": true
   },
   "outputs": [
    {
     "data": {
      "text/latex": [
       "$\\displaystyle \\left[\\begin{matrix}1 & 2 & 3 & a\\\\0 & 3 & 6 & 4 a - b\\\\0 & -6 & -12 & - 7 a + c\\end{matrix}\\right]$"
      ],
      "text/plain": [
       "Matrix([\n",
       "[1,  2,   3,        a],\n",
       "[0,  3,   6,  4*a - b],\n",
       "[0, -6, -12, -7*a + c]])"
      ]
     },
     "execution_count": 28,
     "metadata": {},
     "output_type": "execute_result"
    }
   ],
   "source": [
    "A_[2,:] = A_[2,:] - A_[0,:] * 7\n",
    "A_"
   ]
  },
  {
   "cell_type": "code",
   "execution_count": 29,
   "id": "de4b7b58",
   "metadata": {
    "scrolled": false
   },
   "outputs": [
    {
     "data": {
      "text/latex": [
       "$\\displaystyle \\left[\\begin{matrix}1 & 2 & 3 & a\\\\0 & 3 & 6 & 4 a - b\\\\0 & 0 & 0 & a - 2 b + c\\end{matrix}\\right]$"
      ],
      "text/plain": [
       "Matrix([\n",
       "[1, 2, 3,           a],\n",
       "[0, 3, 6,     4*a - b],\n",
       "[0, 0, 0, a - 2*b + c]])"
      ]
     },
     "execution_count": 29,
     "metadata": {},
     "output_type": "execute_result"
    }
   ],
   "source": [
    "A_[2,:] = A_[2,:] + A_[1,:] * 2\n",
    "A_"
   ]
  },
  {
   "cell_type": "code",
   "execution_count": 30,
   "id": "8c5af931",
   "metadata": {},
   "outputs": [
    {
     "data": {
      "text/plain": [
       "(2, 3, 3)"
      ]
     },
     "execution_count": 30,
     "metadata": {},
     "output_type": "execute_result"
    }
   ],
   "source": [
    "A.rank(), A_.rank(), n"
   ]
  },
  {
   "cell_type": "markdown",
   "id": "591b23fe",
   "metadata": {},
   "source": [
    "При $ (a - 2b + c) \\neq 0 $ система будет несовместной"
   ]
  },
  {
   "cell_type": "markdown",
   "id": "e0a526d8",
   "metadata": {},
   "source": [
    "### Часть 2 ###\n",
    "\n",
    "<hr>\n",
    "\n",
    "__1.__ Решить систему уравнений методом Крамера:\n",
    "\n",
    "   а) $\\begin{cases}\n",
    "x_{1}-2x_{2}=1 \\\\\n",
    "3x_{1}-4x_{2}=7\n",
    "\\end{cases}$\n",
    "    \n",
    "   б) $\\begin{cases}\n",
    "2x_{1}-x_{2}+5x_{3}=10 \\\\\n",
    "x_{1}+x_{2}-3x_{3}=-2 \\\\\n",
    "2x_{1}+4x_{2}+x_{3}=1\n",
    "\\end{cases}$"
   ]
  },
  {
   "cell_type": "code",
   "execution_count": 31,
   "id": "50256dab",
   "metadata": {},
   "outputs": [
    {
     "data": {
      "text/plain": [
       "array([[1, -2],\n",
       "       [3, -4]])"
      ]
     },
     "execution_count": 31,
     "metadata": {},
     "output_type": "execute_result"
    }
   ],
   "source": [
    "# a\n",
    "\n",
    "A = np.array([[1, -2],\n",
    "               [3, -4]])\n",
    "B = np.array([[1], [7]])\n",
    "A"
   ]
  },
  {
   "cell_type": "code",
   "execution_count": 32,
   "id": "07de13eb",
   "metadata": {},
   "outputs": [
    {
     "data": {
      "text/plain": [
       "2.0000000000000004"
      ]
     },
     "execution_count": 32,
     "metadata": {},
     "output_type": "execute_result"
    }
   ],
   "source": [
    "det = np.linalg.det(A)\n",
    "det"
   ]
  },
  {
   "cell_type": "code",
   "execution_count": 33,
   "id": "91347168",
   "metadata": {},
   "outputs": [
    {
     "data": {
      "text/plain": [
       "array([[1, -2],\n",
       "       [7, -4]])"
      ]
     },
     "execution_count": 33,
     "metadata": {},
     "output_type": "execute_result"
    }
   ],
   "source": [
    "A_1 = A.copy()\n",
    "A_1[:, 0] = B[:, 0]\n",
    "A_1"
   ]
  },
  {
   "cell_type": "code",
   "execution_count": 34,
   "id": "3ac5704a",
   "metadata": {
    "scrolled": true
   },
   "outputs": [
    {
     "data": {
      "text/plain": [
       "9.999999999999998"
      ]
     },
     "execution_count": 34,
     "metadata": {},
     "output_type": "execute_result"
    }
   ],
   "source": [
    "det_1 = np.linalg.det(A_1)\n",
    "det_1"
   ]
  },
  {
   "cell_type": "code",
   "execution_count": 35,
   "id": "f1deaf82",
   "metadata": {},
   "outputs": [
    {
     "data": {
      "text/plain": [
       "array([[1, 1],\n",
       "       [3, 7]])"
      ]
     },
     "execution_count": 35,
     "metadata": {},
     "output_type": "execute_result"
    }
   ],
   "source": [
    "A_2 = A.copy()\n",
    "A_2[:, 1] = B[:, 0]\n",
    "A_2"
   ]
  },
  {
   "cell_type": "code",
   "execution_count": 36,
   "id": "2b39c35c",
   "metadata": {
    "scrolled": true
   },
   "outputs": [
    {
     "data": {
      "text/plain": [
       "4.0"
      ]
     },
     "execution_count": 36,
     "metadata": {},
     "output_type": "execute_result"
    }
   ],
   "source": [
    "det_2 = np.linalg.det(A_2)\n",
    "det_2"
   ]
  },
  {
   "cell_type": "code",
   "execution_count": 37,
   "id": "3937cc75",
   "metadata": {},
   "outputs": [
    {
     "data": {
      "text/plain": [
       "(4.999999999999998, 1.9999999999999996)"
      ]
     },
     "execution_count": 37,
     "metadata": {},
     "output_type": "execute_result"
    }
   ],
   "source": [
    "x1 = det_1 / det\n",
    "x2 = det_2 / det\n",
    "x1, x2"
   ]
  },
  {
   "cell_type": "code",
   "execution_count": 38,
   "id": "3e1ee848",
   "metadata": {},
   "outputs": [
    {
     "data": {
      "text/plain": [
       "array([[2, -1, 5],\n",
       "       [1, 1, -3],\n",
       "       [2, 4, 1]])"
      ]
     },
     "execution_count": 38,
     "metadata": {},
     "output_type": "execute_result"
    }
   ],
   "source": [
    "# б\n",
    "\n",
    "A = np.array([[2, -1, 5],\n",
    "              [1, 1, -3], \n",
    "              [2, 4, 1]])\n",
    "B = np.array([[10], [-2], [1]])\n",
    "A"
   ]
  },
  {
   "cell_type": "code",
   "execution_count": 39,
   "id": "f521643f",
   "metadata": {},
   "outputs": [
    {
     "data": {
      "text/plain": [
       "42.99999999999998"
      ]
     },
     "execution_count": 39,
     "metadata": {},
     "output_type": "execute_result"
    }
   ],
   "source": [
    "det = np.linalg.det(A)\n",
    "det"
   ]
  },
  {
   "cell_type": "code",
   "execution_count": 40,
   "id": "8268c9d1",
   "metadata": {},
   "outputs": [
    {
     "data": {
      "text/plain": [
       "(array([[10, -1, 5],\n",
       "        [-2, 1, -3],\n",
       "        [1, 4, 1]]),\n",
       " 86.00000000000004)"
      ]
     },
     "execution_count": 40,
     "metadata": {},
     "output_type": "execute_result"
    }
   ],
   "source": [
    "A_1 = A.copy()\n",
    "A_1[:, 0] = B[:, 0]\n",
    "\n",
    "det_1 = np.linalg.det(A_1)\n",
    "A_1, det_1"
   ]
  },
  {
   "cell_type": "code",
   "execution_count": 41,
   "id": "8a8d48ba",
   "metadata": {},
   "outputs": [
    {
     "data": {
      "text/plain": [
       "(array([[2, 10, 5],\n",
       "        [1, -2, -3],\n",
       "        [2, 1, 1]]),\n",
       " -43.000000000000014)"
      ]
     },
     "execution_count": 41,
     "metadata": {},
     "output_type": "execute_result"
    }
   ],
   "source": [
    "A_2 = A.copy()\n",
    "A_2[:, 1] = B[:, 0]\n",
    "\n",
    "det_2 = np.linalg.det(A_2)\n",
    "A_2, det_2"
   ]
  },
  {
   "cell_type": "code",
   "execution_count": 42,
   "id": "015e2cd2",
   "metadata": {},
   "outputs": [
    {
     "data": {
      "text/plain": [
       "(array([[2, -1, 10],\n",
       "        [1, 1, -2],\n",
       "        [2, 4, 1]]),\n",
       " 42.99999999999998)"
      ]
     },
     "execution_count": 42,
     "metadata": {},
     "output_type": "execute_result"
    }
   ],
   "source": [
    "A_3 = A.copy()\n",
    "A_3[:, 2] = B[:, 0]\n",
    "\n",
    "det_3 = np.linalg.det(A_3)\n",
    "A_3, det_3"
   ]
  },
  {
   "cell_type": "code",
   "execution_count": 43,
   "id": "1340d5fb",
   "metadata": {},
   "outputs": [
    {
     "data": {
      "text/plain": [
       "(2.0000000000000018, -1.0000000000000009, 1.0)"
      ]
     },
     "execution_count": 43,
     "metadata": {},
     "output_type": "execute_result"
    }
   ],
   "source": [
    "x1 = det_1 / det\n",
    "x2 = det_2 / det\n",
    "x3 = det_3 / det\n",
    "x1, x2, x3"
   ]
  },
  {
   "cell_type": "markdown",
   "id": "41c56a66",
   "metadata": {},
   "source": [
    "<hr>\n",
    "\n",
    "__2*.__ Найти $L$-матрицу $LU$-разложения для матрицы коэффициентов:\n",
    "\n",
    "   а)$$\\begin{pmatrix}\n",
    "1 & 2 & 4 \\\\ \n",
    "2 & 9 & 12 \\\\ \n",
    "3 & 26 & 30\n",
    "\\end{pmatrix}$$\n",
    "    "
   ]
  },
  {
   "cell_type": "code",
   "execution_count": 44,
   "id": "70ea2c30",
   "metadata": {},
   "outputs": [
    {
     "data": {
      "text/plain": [
       "array([[1, 2, 4],\n",
       "       [2, 9, 12],\n",
       "       [3, 26, 30]])"
      ]
     },
     "execution_count": 44,
     "metadata": {},
     "output_type": "execute_result"
    }
   ],
   "source": [
    "# a\n",
    "\n",
    "L = np.eye(3)\n",
    "\n",
    "A = np.array([[1, 2, 4],\n",
    "              [2, 9, 12], \n",
    "              [3, 26, 30]])\n",
    "A"
   ]
  },
  {
   "cell_type": "code",
   "execution_count": 45,
   "id": "3219bc76",
   "metadata": {},
   "outputs": [
    {
     "data": {
      "text/plain": [
       "(array([[1, 2, 4],\n",
       "        [0, 5, 4],\n",
       "        [3, 26, 30]]),\n",
       " array([[1, 0, 0],\n",
       "        [2, 1, 0],\n",
       "        [0, 0, 1]]))"
      ]
     },
     "execution_count": 45,
     "metadata": {},
     "output_type": "execute_result"
    }
   ],
   "source": [
    "A[1] = A[1] - A[0] * 2\n",
    "\n",
    "L[1, 0] = 2\n",
    "A, L"
   ]
  },
  {
   "cell_type": "code",
   "execution_count": 46,
   "id": "98720971",
   "metadata": {
    "scrolled": true
   },
   "outputs": [
    {
     "data": {
      "text/plain": [
       "(array([[1, 2, 4],\n",
       "        [0, 5, 4],\n",
       "        [0, 20, 18]]),\n",
       " array([[1, 0, 0],\n",
       "        [2, 1, 0],\n",
       "        [3, 0, 1]]))"
      ]
     },
     "execution_count": 46,
     "metadata": {},
     "output_type": "execute_result"
    }
   ],
   "source": [
    "A[2] = A[2] - A[0] * 3\n",
    "\n",
    "L[2, 0] = 3\n",
    "A, L"
   ]
  },
  {
   "cell_type": "code",
   "execution_count": 47,
   "id": "5f7321c9",
   "metadata": {},
   "outputs": [
    {
     "data": {
      "text/plain": [
       "(array([[1, 2, 4],\n",
       "        [0, 5, 4],\n",
       "        [0, 0, 2]]),\n",
       " array([[1, 0, 0],\n",
       "        [2, 1, 0],\n",
       "        [3, 4, 1]]))"
      ]
     },
     "execution_count": 47,
     "metadata": {},
     "output_type": "execute_result"
    }
   ],
   "source": [
    "A[2] = A[2] - A[1] * 4\n",
    "\n",
    "L[2, 1] = 4\n",
    "A, L"
   ]
  },
  {
   "cell_type": "code",
   "execution_count": 48,
   "id": "f17f4f16",
   "metadata": {
    "scrolled": false
   },
   "outputs": [
    {
     "data": {
      "text/plain": [
       "array([[1, 2, 4],\n",
       "       [2, 9, 12],\n",
       "       [3, 26, 30]])"
      ]
     },
     "execution_count": 48,
     "metadata": {},
     "output_type": "execute_result"
    }
   ],
   "source": [
    "L @ A"
   ]
  },
  {
   "cell_type": "markdown",
   "id": "20f0f421",
   "metadata": {},
   "source": [
    "   б)$$\\begin{pmatrix}\n",
    "1 & 1 & 2 & 4\\\\ \n",
    "2 & 5 & 8 & 9\\\\ \n",
    "3 & 18 & 29 & 18\\\\\n",
    "4 & 22 & 53 & 33\n",
    "\\end{pmatrix}$$"
   ]
  },
  {
   "cell_type": "code",
   "execution_count": 49,
   "id": "085a526e",
   "metadata": {},
   "outputs": [
    {
     "data": {
      "text/plain": [
       "array([[1, 1, 2, 4],\n",
       "       [2, 5, 8, 9],\n",
       "       [3, 18, 29, 18],\n",
       "       [4, 22, 53, 33]])"
      ]
     },
     "execution_count": 49,
     "metadata": {},
     "output_type": "execute_result"
    }
   ],
   "source": [
    "# б\n",
    "\n",
    "L = np.eye(4)\n",
    "\n",
    "A = np.array([[1, 1, 2, 4],\n",
    "              [2, 5, 8, 9], \n",
    "              [3, 18, 29, 18],\n",
    "              [4, 22, 53, 33]])\n",
    "A"
   ]
  },
  {
   "cell_type": "code",
   "execution_count": 50,
   "id": "557c41d8",
   "metadata": {
    "scrolled": true
   },
   "outputs": [
    {
     "data": {
      "text/plain": [
       "(array([[1, 1, 2, 4],\n",
       "        [0, 3, 4, 1],\n",
       "        [3, 18, 29, 18],\n",
       "        [4, 22, 53, 33]]),\n",
       " array([[1, 0, 0, 0],\n",
       "        [2, 1, 0, 0],\n",
       "        [0, 0, 1, 0],\n",
       "        [0, 0, 0, 1]]))"
      ]
     },
     "execution_count": 50,
     "metadata": {},
     "output_type": "execute_result"
    }
   ],
   "source": [
    "A[1] = A[1] - A[0] * 2\n",
    "\n",
    "L[1, 0] = 2\n",
    "A, L"
   ]
  },
  {
   "cell_type": "code",
   "execution_count": 51,
   "id": "06298e57",
   "metadata": {},
   "outputs": [
    {
     "data": {
      "text/plain": [
       "(array([[1, 1, 2, 4],\n",
       "        [0, 3, 4, 1],\n",
       "        [0, 15, 23, 6],\n",
       "        [4, 22, 53, 33]]),\n",
       " array([[1, 0, 0, 0],\n",
       "        [2, 1, 0, 0],\n",
       "        [3, 0, 1, 0],\n",
       "        [0, 0, 0, 1]]))"
      ]
     },
     "execution_count": 51,
     "metadata": {},
     "output_type": "execute_result"
    }
   ],
   "source": [
    "A[2] = A[2] - A[0] * 3\n",
    "\n",
    "L[2, 0] = 3\n",
    "A, L"
   ]
  },
  {
   "cell_type": "code",
   "execution_count": 52,
   "id": "b199422f",
   "metadata": {},
   "outputs": [
    {
     "data": {
      "text/plain": [
       "(array([[1, 1, 2, 4],\n",
       "        [0, 3, 4, 1],\n",
       "        [0, 15, 23, 6],\n",
       "        [0, 18, 45, 17]]),\n",
       " array([[1, 0, 0, 0],\n",
       "        [2, 1, 0, 0],\n",
       "        [3, 0, 1, 0],\n",
       "        [4, 0, 0, 1]]))"
      ]
     },
     "execution_count": 52,
     "metadata": {},
     "output_type": "execute_result"
    }
   ],
   "source": [
    "A[3] = A[3] - A[0] * 4\n",
    "\n",
    "L[3, 0] = 4\n",
    "A, L"
   ]
  },
  {
   "cell_type": "code",
   "execution_count": 53,
   "id": "daa4a7e6",
   "metadata": {},
   "outputs": [
    {
     "data": {
      "text/plain": [
       "(array([[1, 1, 2, 4],\n",
       "        [0, 3, 4, 1],\n",
       "        [0, 0, 3, 1],\n",
       "        [0, 18, 45, 17]]),\n",
       " array([[1, 0, 0, 0],\n",
       "        [2, 1, 0, 0],\n",
       "        [3, 5, 1, 0],\n",
       "        [4, 0, 0, 1]]))"
      ]
     },
     "execution_count": 53,
     "metadata": {},
     "output_type": "execute_result"
    }
   ],
   "source": [
    "A[2] = A[2] - A[1] * 5\n",
    "\n",
    "L[2, 1] = 5\n",
    "A, L"
   ]
  },
  {
   "cell_type": "code",
   "execution_count": 54,
   "id": "a2fa3ba8",
   "metadata": {
    "scrolled": false
   },
   "outputs": [
    {
     "data": {
      "text/plain": [
       "(array([[1, 1, 2, 4],\n",
       "        [0, 3, 4, 1],\n",
       "        [0, 0, 3, 1],\n",
       "        [0, 0, 21, 11]]),\n",
       " array([[1, 0, 0, 0],\n",
       "        [2, 1, 0, 0],\n",
       "        [3, 5, 1, 0],\n",
       "        [4, 6, 0, 1]]))"
      ]
     },
     "execution_count": 54,
     "metadata": {},
     "output_type": "execute_result"
    }
   ],
   "source": [
    "A[3] = A[3] - A[1] * 6\n",
    "\n",
    "L[3, 1] = 6\n",
    "A, L"
   ]
  },
  {
   "cell_type": "code",
   "execution_count": 55,
   "id": "6358ec21",
   "metadata": {},
   "outputs": [
    {
     "data": {
      "text/plain": [
       "(array([[1, 1, 2, 4],\n",
       "        [0, 3, 4, 1],\n",
       "        [0, 0, 3, 1],\n",
       "        [0, 0, 0, 4]]),\n",
       " array([[1, 0, 0, 0],\n",
       "        [2, 1, 0, 0],\n",
       "        [3, 5, 1, 0],\n",
       "        [4, 6, 7, 1]]))"
      ]
     },
     "execution_count": 55,
     "metadata": {},
     "output_type": "execute_result"
    }
   ],
   "source": [
    "A[3] = A[3] - A[2] * 7\n",
    "\n",
    "L[3, 2] = 7\n",
    "A, L"
   ]
  },
  {
   "cell_type": "code",
   "execution_count": 56,
   "id": "21cefb78",
   "metadata": {},
   "outputs": [
    {
     "data": {
      "text/plain": [
       "array([[1, 1, 2, 4],\n",
       "       [2, 5, 8, 9],\n",
       "       [3, 18, 29, 18],\n",
       "       [4, 22, 53, 33]])"
      ]
     },
     "execution_count": 56,
     "metadata": {},
     "output_type": "execute_result"
    }
   ],
   "source": [
    "L @ A"
   ]
  },
  {
   "cell_type": "markdown",
   "id": "b0c2d567",
   "metadata": {},
   "source": [
    "<hr>\n",
    "\n",
    "__3*.__ Решить систему линейных уравнений методом $LU$-разложения\n",
    "\n",
    "$$\\begin{cases}\n",
    "2x_{1}+x_{2}+3x_{3}=1 \\\\\n",
    "11x_{1}+7x_{2}+5x_{3}=-6 \\\\\n",
    "9x_{1}+8x_{2}+4x_{3}=-5\n",
    "\\end{cases}$$"
   ]
  },
  {
   "cell_type": "code",
   "execution_count": 57,
   "id": "b28b817b",
   "metadata": {},
   "outputs": [],
   "source": [
    "b = np.array([[1], [-6], [-5]])\n",
    "U = np.array([[2, 1, 3],\n",
    "              [11, 7, 5],\n",
    "              [9, 8, 4]], float)\n",
    "L = np.eye(3)"
   ]
  },
  {
   "cell_type": "code",
   "execution_count": 58,
   "id": "cf1e46ed",
   "metadata": {},
   "outputs": [
    {
     "data": {
      "text/plain": [
       "(array([[2, 1, 3],\n",
       "        [0, 3/2, -23/2],\n",
       "        [9, 8, 4]]),\n",
       " array([[1, 0, 0],\n",
       "        [11/2, 1, 0],\n",
       "        [0, 0, 1]]))"
      ]
     },
     "execution_count": 58,
     "metadata": {},
     "output_type": "execute_result"
    }
   ],
   "source": [
    "l = 11/2\n",
    "U[1] = U[1] - U[0] * l\n",
    "\n",
    "L[1, 0] = l\n",
    "U, L"
   ]
  },
  {
   "cell_type": "code",
   "execution_count": 59,
   "id": "66b049e1",
   "metadata": {
    "scrolled": true
   },
   "outputs": [
    {
     "data": {
      "text/plain": [
       "(array([[2, 1, 3],\n",
       "        [0, 3/2, -23/2],\n",
       "        [0, 7/2, -19/2]]),\n",
       " array([[1, 0, 0],\n",
       "        [11/2, 1, 0],\n",
       "        [9/2, 0, 1]]))"
      ]
     },
     "execution_count": 59,
     "metadata": {},
     "output_type": "execute_result"
    }
   ],
   "source": [
    "l = 9/2\n",
    "U[2] = U[2] - U[0] * l\n",
    "\n",
    "L[2, 0] = l\n",
    "U, L"
   ]
  },
  {
   "cell_type": "code",
   "execution_count": 60,
   "id": "a6c9a425",
   "metadata": {},
   "outputs": [
    {
     "data": {
      "text/plain": [
       "(array([[2, 1, 3],\n",
       "        [0, 3/2, -23/2],\n",
       "        [0, 0, 52/3]]),\n",
       " array([[1, 0, 0],\n",
       "        [11/2, 1, 0],\n",
       "        [9/2, 7/3, 1]]))"
      ]
     },
     "execution_count": 60,
     "metadata": {},
     "output_type": "execute_result"
    }
   ],
   "source": [
    "l = 7/3\n",
    "U[2] = U[2] - U[1] * l\n",
    "\n",
    "L[2, 1] = l\n",
    "U, L"
   ]
  },
  {
   "cell_type": "code",
   "execution_count": 61,
   "id": "05ed5091",
   "metadata": {},
   "outputs": [
    {
     "data": {
      "text/plain": [
       "array([[2, 1, 3],\n",
       "       [11, 7, 5],\n",
       "       [9, 8, 4]])"
      ]
     },
     "execution_count": 61,
     "metadata": {},
     "output_type": "execute_result"
    }
   ],
   "source": [
    "L @ U"
   ]
  },
  {
   "cell_type": "markdown",
   "id": "71e571e7",
   "metadata": {},
   "source": [
    "$$\n",
    "Ly = b\\\\\n",
    "\\begin{cases}\n",
    "y_{1}=1 \\\\\n",
    "\\frac{11}{2}y_{1} + y_{2}=-6 \\\\\n",
    "\\frac{9}{2}y_{1} + \\frac{7}{3}y_{2} + y_{3}=-5\n",
    "\\end{cases}\\\\\n",
    "y_{1} = 1, y_{2} = -\\frac{23}{2}, y_{3} = \\frac{52}{3}\n",
    "$$\n"
   ]
  },
  {
   "cell_type": "markdown",
   "id": "f687643f",
   "metadata": {},
   "source": [
    "$$\n",
    "Ux = y\\\\\n",
    "\\begin{cases}\n",
    "2x_{1} + x_{2} + 3x_{3} = 1\\\\\n",
    "\\frac{3}{2}x_{2} - \\frac{23}{2}x_{3} = -\\frac{23}{2}\\\\\n",
    "\\frac{53}{3}x_{3} = \\frac{53}{3}\n",
    "\\end{cases}\\\\\n",
    "x_{3} = 1, x_{2} = 0, x_{1} = -1\n",
    "$$"
   ]
  },
  {
   "cell_type": "markdown",
   "id": "726bb9cf",
   "metadata": {},
   "source": [
    "Проверка\n",
    "\n",
    "\n",
    "$$\\begin{cases}\n",
    "-2 + 0 + 3 = 1\\\\\n",
    "-11 + 0 + 5 = -6 \\\\\n",
    "-9 + 0 + 4 = -5\n",
    "\\end{cases}$$"
   ]
  },
  {
   "cell_type": "markdown",
   "id": "8b4b3c69",
   "metadata": {},
   "source": [
    "<hr>\n",
    "\n",
    "__4*.__ Решить систему линейных уравнений методом Холецкого\n",
    "\n",
    "$$\\begin{cases}\n",
    "81x_{1}-45x_{2}+45x_{3}=531 \\\\\n",
    "-45x_{1}+50x_{2}-15x_{3}=-460 \\\\\n",
    "45x_{1}-15x_{2}+38x_{3}=193\n",
    "\\end{cases}$$"
   ]
  },
  {
   "cell_type": "code",
   "execution_count": 62,
   "id": "121b0909",
   "metadata": {},
   "outputs": [
    {
     "data": {
      "text/plain": [
       "array([[81, -45, 45],\n",
       "       [-45, 50, -15],\n",
       "       [45, -15, 38]])"
      ]
     },
     "execution_count": 62,
     "metadata": {},
     "output_type": "execute_result"
    }
   ],
   "source": [
    "A = np.array([[81, -45, 45],\n",
    "              [-45, 50, -15],\n",
    "              [45, -15, 38]])\n",
    "A"
   ]
  },
  {
   "cell_type": "code",
   "execution_count": 63,
   "id": "440bdaac",
   "metadata": {},
   "outputs": [
    {
     "data": {
      "text/plain": [
       "array([[9, 0, 0],\n",
       "       [-5, 5, 0],\n",
       "       [5, 2, 3]])"
      ]
     },
     "execution_count": 63,
     "metadata": {},
     "output_type": "execute_result"
    }
   ],
   "source": [
    "L = np.zeros([3, 3])\n",
    "L[0,0] = np.sqrt(A[0,0])\n",
    "L[1,0] = A[1,0]/L[0,0]\n",
    "L[2,0] = A[2,0]/L[0,0]\n",
    "\n",
    "L[1,1] = np.sqrt(A[1,1] - L[1,0]**2)\n",
    "L[2,1] = 1/L[1,1]*(A[2,1] - L[1,0]*L[2,0])\n",
    "L[2,2] = np.sqrt(A[2,2] - L[2,0]**2 - L[2,1]**2)\n",
    "L"
   ]
  },
  {
   "cell_type": "code",
   "execution_count": 64,
   "id": "6e98f1ab",
   "metadata": {},
   "outputs": [
    {
     "data": {
      "text/plain": [
       "array([[9, -5, 5],\n",
       "       [0, 5, 2],\n",
       "       [0, 0, 3]])"
      ]
     },
     "execution_count": 64,
     "metadata": {},
     "output_type": "execute_result"
    }
   ],
   "source": [
    "L.T"
   ]
  },
  {
   "cell_type": "markdown",
   "id": "9e9df393",
   "metadata": {},
   "source": [
    "$$Ly=b\\\\\n",
    "\\begin{cases}\n",
    "9y_{1} = 531\\\\\n",
    "-5y_{1} + 5y_{2} = -460\\\\\n",
    "5y_{1} + 2y_{2} +3y_{3} = 193\n",
    "\\end{cases}$$"
   ]
  },
  {
   "cell_type": "code",
   "execution_count": 65,
   "id": "8e6303ee",
   "metadata": {},
   "outputs": [
    {
     "data": {
      "text/plain": [
       "(59.0, -33.0, -12.0)"
      ]
     },
     "execution_count": 65,
     "metadata": {},
     "output_type": "execute_result"
    }
   ],
   "source": [
    "y1 = 531/9\n",
    "y2 = (5 * y1 - 460) / 5\n",
    "y3 = (-5*y1 - 2*y2 + 193) / 3\n",
    "y1, y2, y3"
   ]
  },
  {
   "cell_type": "markdown",
   "id": "c7a3f91f",
   "metadata": {},
   "source": [
    "$$\n",
    "L^{T}x = y\\\\\n",
    "\\begin{cases}\n",
    "9x_{1}-5x_{2}+5x_{3} = 59\\\\\n",
    "5x_{2} + 2x_{3} = -33\\\\\n",
    "3x_{3} = -12\n",
    "\\end{cases}\n",
    "$$"
   ]
  },
  {
   "cell_type": "code",
   "execution_count": 66,
   "id": "746f13ad",
   "metadata": {},
   "outputs": [
    {
     "data": {
      "text/plain": [
       "(6.0, -5.0, -4.0)"
      ]
     },
     "execution_count": 66,
     "metadata": {},
     "output_type": "execute_result"
    }
   ],
   "source": [
    "x3 = -12/3\n",
    "x2 = (-33 - 2 * x3) / 5\n",
    "x1 = (5*x2 - 5*x3 + 59)/ 9\n",
    "x1, x2, x3"
   ]
  },
  {
   "cell_type": "code",
   "execution_count": 67,
   "id": "886b42e3",
   "metadata": {
    "scrolled": true
   },
   "outputs": [
    {
     "data": {
      "text/plain": [
       "(531.0, -460.0, 193.0)"
      ]
     },
     "execution_count": 67,
     "metadata": {},
     "output_type": "execute_result"
    }
   ],
   "source": [
    "81*x1 - 45*x2 + 45*x3, (-45)*x1 + 50*x2 - 15*x3, 45*x1 - 15*x2 + 38*x3"
   ]
  },
  {
   "cell_type": "markdown",
   "id": "996729c1",
   "metadata": {},
   "source": [
    "<hr>\n",
    "\n",
    "__5*.__ Написать на Python программу с реализацией одного из изученных алгоритмов решения СЛАУ."
   ]
  },
  {
   "cell_type": "code",
   "execution_count": 75,
   "id": "03a6b28d",
   "metadata": {},
   "outputs": [],
   "source": [
    "A = np.array([[2, -1, 5],\n",
    "              [1, 1, -3], \n",
    "              [2, 4, 1]])\n",
    "B = np.array([[10], [-2], [1]])\n"
   ]
  },
  {
   "cell_type": "code",
   "execution_count": 73,
   "id": "eb261b74",
   "metadata": {},
   "outputs": [],
   "source": [
    "def cramer_solver(A, B):\n",
    "    \"\"\"\n",
    "    решение системы линейных уравнений методом Крамера\n",
    "    \"\"\"\n",
    "    \n",
    "    det = np.linalg.det(A)\n",
    "    result = []\n",
    "    if A.shape[0] == A.shape[1] and det != 0:\n",
    "        for i in range(A.shape[0]):\n",
    "\n",
    "            A_tmp = A.copy()\n",
    "            A_tmp[:, i] = B[:, 0]\n",
    "\n",
    "            result.append(np.linalg.det(A_tmp) / det)\n",
    "        \n",
    "    return result if len(result) > 0 else 'Нет решений для этого метода'"
   ]
  },
  {
   "cell_type": "code",
   "execution_count": 76,
   "id": "a86986f7",
   "metadata": {},
   "outputs": [
    {
     "name": "stdout",
     "output_type": "stream",
     "text": [
      "[2.0000000000000018, -1.0000000000000009, 1.0]\n"
     ]
    }
   ],
   "source": [
    "print(cramer_solver(A, B))"
   ]
  }
 ],
 "metadata": {
  "kernelspec": {
   "display_name": "Python 3",
   "language": "python",
   "name": "python3"
  },
  "language_info": {
   "codemirror_mode": {
    "name": "ipython",
    "version": 3
   },
   "file_extension": ".py",
   "mimetype": "text/x-python",
   "name": "python",
   "nbconvert_exporter": "python",
   "pygments_lexer": "ipython3",
   "version": "3.8.8"
  }
 },
 "nbformat": 4,
 "nbformat_minor": 5
}
