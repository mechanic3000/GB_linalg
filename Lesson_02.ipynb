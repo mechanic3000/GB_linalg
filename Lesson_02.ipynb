{
 "cells": [
  {
   "cell_type": "code",
   "execution_count": 1,
   "id": "3eefff44",
   "metadata": {},
   "outputs": [],
   "source": [
    "import numpy as np"
   ]
  },
  {
   "cell_type": "markdown",
   "id": "677fe321",
   "metadata": {},
   "source": [
    "## Урок 2. ДЗ ##\n",
    "\n",
    "### Часть 1 ###\n",
    "\n",
    "1. Установить, какие произведения матриц  𝐴𝐵  и  𝐵𝐴  определены, и найти размерности полученных матриц:\n",
    "\n",
    "а)  𝐴  — матрица  4×2 ,  𝐵  — матрица  4×2 ;\n",
    "\n",
    "б)  𝐴  — матрица  2×5 ,  𝐵  — матрица  5×3 ;\n",
    "\n",
    "в)  𝐴  — матрица  8×3 ,  𝐵  — матрица  3×8 ;\n",
    "\n",
    "г)  𝐴  — квадратная матрица  4×4 ,  𝐵  — квадратная матрица  4×4 ."
   ]
  },
  {
   "cell_type": "markdown",
   "id": "d9c145ce",
   "metadata": {},
   "source": [
    "ОТВЕТ:\n",
    "\n",
    "а) \n",
    "    AB - неопределено\n",
    "    BA - неопределено\n",
    " \n",
    "б)\n",
    "    AB - 2х3\n",
    "    BA - неопределено\n",
    "\n",
    "в)\n",
    "    AB - 8x8\n",
    "    BA - 3x3\n",
    "  \n",
    "г)  в обоих случаях размерность 4x4\n",
    "    "
   ]
  },
  {
   "cell_type": "markdown",
   "id": "320f7c30",
   "metadata": {},
   "source": [
    "__2.__ Найти сумму и произведение матриц $A=\\begin{pmatrix}\n",
    "1 & -2\\\\ \n",
    "3 & 0\n",
    "\\end{pmatrix}$ и $B=\\begin{pmatrix}\n",
    "4 & -1\\\\ \n",
    "0 & 5\n",
    "\\end{pmatrix}.$"
   ]
  },
  {
   "cell_type": "markdown",
   "id": "98558bc7",
   "metadata": {},
   "source": [
    "$$\n",
    "AB = \\begin{pmatrix}\n",
    "        1*4 + -2*0 & 1*-1 + -2*5 \\\\\n",
    "        3*4 + 0*0 & 3*-1 + 0*5\n",
    "\\end{pmatrix} = \n",
    "\\begin{pmatrix}\n",
    "        4 & -11 \\\\\n",
    "        12 & -3\n",
    "\\end{pmatrix}\n",
    "$$\n",
    "        "
   ]
  },
  {
   "cell_type": "code",
   "execution_count": 35,
   "id": "19979282",
   "metadata": {},
   "outputs": [
    {
     "data": {
      "text/plain": [
       "array([[  4, -11],\n",
       "       [ 12,  -3]])"
      ]
     },
     "execution_count": 35,
     "metadata": {},
     "output_type": "execute_result"
    }
   ],
   "source": [
    "A = np.array([[1, -2], [3, 0]])\n",
    "B = np.array([[4, -1], [0, 5]])\n",
    "np.dot(A, B)"
   ]
  },
  {
   "cell_type": "markdown",
   "id": "d4035c05",
   "metadata": {},
   "source": [
    "__3.__ Из закономерностей сложения и умножения матриц на число можно сделать вывод, что матрицы одного размера образуют линейное пространство. Вычислить линейную комбинацию $3A-2B+4C$ для матриц $A=\\begin{pmatrix}\n",
    "1 & 7\\\\ \n",
    "3 & -6\n",
    "\\end{pmatrix}$, $B=\\begin{pmatrix}\n",
    "0 & 5\\\\ \n",
    "2 & -1\n",
    "\\end{pmatrix}$, $C=\\begin{pmatrix}\n",
    "2 & -4\\\\ \n",
    "1 & 1\n",
    "\\end{pmatrix}.$"
   ]
  },
  {
   "cell_type": "markdown",
   "id": "acee971c",
   "metadata": {},
   "source": [
    "$\n",
    "3 * A = \\begin{pmatrix}\n",
    "3 & 21 \\\\ \n",
    "9 & -18\n",
    "\\end{pmatrix}$\n",
    "\n",
    "$2 * B = \\begin{pmatrix}\n",
    "0 & 10 \\\\ \n",
    "4 & -2\n",
    "\\end{pmatrix}$\n",
    "\n",
    "$2 * C = \\begin{pmatrix}\n",
    "8 & -16 \\\\ \n",
    "4 & 4\n",
    "\\end{pmatrix}$"
   ]
  },
  {
   "cell_type": "markdown",
   "id": "fcb43a9f",
   "metadata": {},
   "source": [
    "$3A-2B+4C = \\begin{pmatrix}\n",
    "3-0+8 & 21-10-16 \\\\ \n",
    "9-4+4 & -18+2+4\n",
    "\\end{pmatrix}= \\begin{pmatrix}\n",
    "11 & -5 \\\\ \n",
    "9 & -12\n",
    "\\end{pmatrix}$"
   ]
  },
  {
   "cell_type": "code",
   "execution_count": 39,
   "id": "c11aeaf3",
   "metadata": {},
   "outputs": [
    {
     "data": {
      "text/plain": [
       "array([[ 11,  -5],\n",
       "       [  9, -12]])"
      ]
     },
     "execution_count": 39,
     "metadata": {},
     "output_type": "execute_result"
    }
   ],
   "source": [
    "A = np.array([[1, 7], [3, -6]])\n",
    "B = np.array([[0, 5], [2, -1]])\n",
    "C = np.array([[2, -4], [1, 1]])\n",
    "3*A - 2*B + 4*C"
   ]
  },
  {
   "cell_type": "markdown",
   "id": "a6349a55",
   "metadata": {},
   "source": [
    "__4.__ Дана матрица $A=\\begin{pmatrix}\n",
    "4 & 1\\\\ \n",
    "5 & -2\\\\ \n",
    "2 & 3\n",
    "\\end{pmatrix}$.\n",
    "Вычислить $AA^{T}$ и $A^{T}A$."
   ]
  },
  {
   "cell_type": "markdown",
   "id": "dbf21811",
   "metadata": {},
   "source": [
    "$AA^{T}=\\begin{pmatrix}\n",
    "4*4 + 1*1 & 4*5 + 1*-2 & 4*2 + 1*3\\\\ \n",
    "5*4 + -2*1 & 5*5 + -2*-2 & 5*2 + -2*3\\\\ \n",
    "3*4 + 3*1 & 2*5 + 3*-2 & 2*2 + 3*3\n",
    "\\end{pmatrix}$"
   ]
  },
  {
   "cell_type": "code",
   "execution_count": 43,
   "id": "f46bcd54",
   "metadata": {},
   "outputs": [
    {
     "data": {
      "text/plain": [
       "array([[17, 18, 11],\n",
       "       [18, 29,  4],\n",
       "       [11,  4, 13]])"
      ]
     },
     "execution_count": 43,
     "metadata": {},
     "output_type": "execute_result"
    }
   ],
   "source": [
    "A = np.array([[4, 1], [5, -2], [2, 3]])\n",
    "np.dot(A, A.T)"
   ]
  },
  {
   "cell_type": "code",
   "execution_count": 44,
   "id": "201d542d",
   "metadata": {},
   "outputs": [
    {
     "data": {
      "text/plain": [
       "array([[45,  0],\n",
       "       [ 0, 14]])"
      ]
     },
     "execution_count": 44,
     "metadata": {},
     "output_type": "execute_result"
    }
   ],
   "source": [
    "np.dot(A.T, A)"
   ]
  },
  {
   "cell_type": "markdown",
   "id": "92729f7f",
   "metadata": {},
   "source": [
    "__5*__. Написать на Python функцию для перемножения двух произвольных матриц, не используя NumPy."
   ]
  },
  {
   "cell_type": "code",
   "execution_count": 152,
   "id": "3de7d508",
   "metadata": {},
   "outputs": [],
   "source": [
    "def matrix_dot(A, B):\n",
    "    \"Функция умножения двух матриц\"\n",
    "    if len(A[0]) == len(B):\n",
    "        result = []\n",
    "        for a_row_num, row in enumerate(A):\n",
    "            line = []\n",
    "            for b_col_num in range(len(A)):\n",
    "                tmp = 0\n",
    "                for a_col_num, num in enumerate(row):\n",
    "                    tmp += num * B[a_col_num][b_col_num]\n",
    "                line.append(tmp)\n",
    "            result.append(line)\n",
    "    else:\n",
    "        raise RuntimeError(\"Wrong matrix size\")\n",
    "    return result"
   ]
  },
  {
   "cell_type": "code",
   "execution_count": 156,
   "id": "96cbcaea",
   "metadata": {},
   "outputs": [
    {
     "name": "stdout",
     "output_type": "stream",
     "text": [
      "[[4, -11, -8], [12, -3, 12], [12, -3, 12]]\n"
     ]
    }
   ],
   "source": [
    "A = [[1, -2], [3, 0], [3, 0]]\n",
    "B = [[4, -1, 4], [0, 5, 6]] \n",
    "\n",
    "matrix_dot(A, B)"
   ]
  },
  {
   "cell_type": "markdown",
   "id": "990bde66",
   "metadata": {},
   "source": [
    "### Часть 2 ###"
   ]
  },
  {
   "cell_type": "markdown",
   "id": "615946df",
   "metadata": {},
   "source": [
    "__1.__ Вычислить определитель:\n",
    "\n",
    "   a)\n",
    "\n",
    "$$\\begin{vmatrix}\n",
    "sinx & -cosx\\\\ \n",
    "cosx & sinx\n",
    "\\end{vmatrix} = sin^2x + cos^2x = 1$$\n",
    "\n",
    "   б)\n",
    "    \n",
    "$$\\begin{vmatrix}\n",
    "4 & 2 & 3\\\\ \n",
    "0 & 5 & 1\\\\ \n",
    "0 & 0 & 9\n",
    "\\end{vmatrix}=4*(5*9-0*1) - 0 + 0 = 180$$\n",
    "    \n",
    "   в)\n",
    "\n",
    "$$\\begin{vmatrix}\n",
    "1 & 2 & 3\\\\ \n",
    "4 & 5 & 6\\\\ \n",
    "7 & 8 & 9\n",
    "\\end{vmatrix} = 1\\cdot(5\\cdot9-6\\cdot8) - 2\\cdot(4\\cdot9-6\\cdot7) + 3\\cdot(4\\cdot8-5\\cdot7) = 0$$"
   ]
  },
  {
   "cell_type": "code",
   "execution_count": 159,
   "id": "870b6e6e",
   "metadata": {},
   "outputs": [
    {
     "data": {
      "text/plain": [
       "180.0"
      ]
     },
     "execution_count": 159,
     "metadata": {},
     "output_type": "execute_result"
    }
   ],
   "source": [
    "B = np.array([[4,2,3], [0,5,1], [0,0,9]])\n",
    "np.linalg.det(B)"
   ]
  },
  {
   "cell_type": "code",
   "execution_count": 164,
   "id": "acd4597b",
   "metadata": {},
   "outputs": [
    {
     "name": "stdout",
     "output_type": "stream",
     "text": [
      "-0.00000\n"
     ]
    }
   ],
   "source": [
    "C = np.array([[1,2,3], [4,5,6], [7,8,9]])\n",
    "print(f'{np.linalg.det(C):0.5f}')"
   ]
  },
  {
   "cell_type": "markdown",
   "id": "2970008d",
   "metadata": {},
   "source": [
    "__2.__ Определитель матрицы $A$ равен $4$. Найти:\n",
    "\n",
    "   а) $det(A^{2}) = det(A) * det(A) = 16$;\n",
    "    \n",
    "   б) $det(A^{T}) = 4$;\n",
    "    \n",
    "   в) $det(2A) = 2 * 4 = 8$."
   ]
  },
  {
   "cell_type": "markdown",
   "id": "8bbdd2e2",
   "metadata": {},
   "source": [
    "__3.__  Доказать, что матрица\n",
    "\n",
    "$$\\begin{pmatrix}\n",
    "-2 & 7 & -3\\\\ \n",
    "4 & -14 & 6\\\\ \n",
    "-3 & 7 & 13\n",
    "\\end{pmatrix}$$\n",
    "   \n",
    "вырожденная."
   ]
  },
  {
   "cell_type": "code",
   "execution_count": 167,
   "id": "0bed6d92",
   "metadata": {},
   "outputs": [
    {
     "data": {
      "text/plain": [
       "0.0"
      ]
     },
     "execution_count": 167,
     "metadata": {},
     "output_type": "execute_result"
    }
   ],
   "source": [
    "A = np.array([[-2, 7, -3], [4, -14, 6], [-3, 7, 13]])\n",
    "np.linalg.det(A)"
   ]
  },
  {
   "cell_type": "markdown",
   "id": "31f6636a",
   "metadata": {},
   "source": [
    "Ответ: матрица вырожденная, т.к. её определитель = 0"
   ]
  },
  {
   "cell_type": "markdown",
   "id": "846eeb52",
   "metadata": {},
   "source": [
    "__4.__ Найти ранг матрицы:\n",
    "\n",
    "   а) $\\begin{pmatrix}\n",
    "1 & 2 & 3\\\\ \n",
    "1 & 1 & 1\\\\ \n",
    "2 & 3 & 4\n",
    "\\end{pmatrix};$\n",
    "\n",
    "Ответ: \n",
    "\n",
    "3-я строка является суммой 1й и 2й => ее можно исключить\n",
    "$\\begin{pmatrix}\n",
    "1 & 2 & 3\\\\ \n",
    "1 & 1 & 1\n",
    "\\end{pmatrix};$\n",
    "\n",
    "3й столбец является суммой первого и второго => его тоже можно исключить. Останется матрица\n",
    "$\\begin{pmatrix}\n",
    "1 & 2 \\\\ \n",
    "1 & 1\n",
    "\\end{pmatrix};$\n",
    "\n",
    "Это означает, что ранг исходной матрицы = 2\n",
    "\n",
    "   б) $\\begin{pmatrix}\n",
    "0 & 0 & 2 & 1\\\\ \n",
    "0 & 0 & 2 & 2\\\\ \n",
    "0 & 0 & 4 & 3\\\\ \n",
    "2 & 3 & 5 & 6\n",
    "\\end{pmatrix}.$\n",
    "\n",
    "Ответ:\n",
    "\n",
    "третяя строка - сумма 1 и 2 => её исключаем\n",
    "$\\begin{pmatrix}\n",
    "0 & 0 & 2 & 1\\\\ \n",
    "0 & 0 & 2 & 2\\\\  \n",
    "2 & 3 & 5 & 6\n",
    "\\end{pmatrix}.$\n",
    "\n",
    "первый и второй столбцы имеют линейную зависимость => следовательно один из них можно исключить\n",
    "\n",
    "$\\begin{pmatrix}\n",
    "0  & 2 & 1\\\\ \n",
    "0  & 2 & 2\\\\  \n",
    "2  & 5 & 6\n",
    "\\end{pmatrix}.$\n",
    "\n",
    "Ранг исходной матрицы = 3"
   ]
  },
  {
   "cell_type": "code",
   "execution_count": 168,
   "id": "a5c5f584",
   "metadata": {},
   "outputs": [
    {
     "data": {
      "text/plain": [
       "2"
      ]
     },
     "execution_count": 168,
     "metadata": {},
     "output_type": "execute_result"
    }
   ],
   "source": [
    "A = np.array([[1,2,3], [1,1,1], [2,3,4]])\n",
    "np.linalg.matrix_rank(A)"
   ]
  },
  {
   "cell_type": "code",
   "execution_count": 169,
   "id": "03e9d429",
   "metadata": {},
   "outputs": [
    {
     "data": {
      "text/plain": [
       "3"
      ]
     },
     "execution_count": 169,
     "metadata": {},
     "output_type": "execute_result"
    }
   ],
   "source": [
    "B = np.array([[0,0,2,1], [0,0,2,2], [0,0,4,3], [2,3,5,6]])\n",
    "np.linalg.matrix_rank(B)"
   ]
  }
 ],
 "metadata": {
  "kernelspec": {
   "display_name": "Python 3",
   "language": "python",
   "name": "python3"
  },
  "language_info": {
   "codemirror_mode": {
    "name": "ipython",
    "version": 3
   },
   "file_extension": ".py",
   "mimetype": "text/x-python",
   "name": "python",
   "nbconvert_exporter": "python",
   "pygments_lexer": "ipython3",
   "version": "3.8.8"
  }
 },
 "nbformat": 4,
 "nbformat_minor": 5
}
