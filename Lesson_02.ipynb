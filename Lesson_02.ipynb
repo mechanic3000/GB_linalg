{
 "cells": [
  {
   "cell_type": "code",
   "execution_count": 1,
   "id": "240b90f2",
   "metadata": {},
   "outputs": [],
   "source": [
    "import numpy as np"
   ]
  },
  {
   "cell_type": "markdown",
   "id": "25990386",
   "metadata": {},
   "source": [
    "## Урок 2. ДЗ ##\n",
    "\n",
    "### Часть 1 ###\n",
    "\n",
    "1. Установить, какие произведения матриц  𝐴𝐵  и  𝐵𝐴  определены, и найти размерности полученных матриц:\n",
    "\n",
    "а)  𝐴  — матрица  4×2 ,  𝐵  — матрица  4×2 ;\n",
    "\n",
    "б)  𝐴  — матрица  2×5 ,  𝐵  — матрица  5×3 ;\n",
    "\n",
    "в)  𝐴  — матрица  8×3 ,  𝐵  — матрица  3×8 ;\n",
    "\n",
    "г)  𝐴  — квадратная матрица  4×4 ,  𝐵  — квадратная матрица  4×4 ."
   ]
  },
  {
   "cell_type": "markdown",
   "id": "e4a02bfb",
   "metadata": {},
   "source": [
    "ОТВЕТ:\n",
    "\n",
    "а) \n",
    "    AB - неопределено\n",
    "    BA - неопределено\n",
    " \n",
    "б)\n",
    "    AB - 2х3\n",
    "    BA - неопределено\n",
    "\n",
    "в)\n",
    "    AB - 8x8\n",
    "    BA - 3x3\n",
    "  \n",
    "г)  в обоих случаях размерность 4x4\n",
    "    "
   ]
  },
  {
   "cell_type": "markdown",
   "id": "b70939c9",
   "metadata": {},
   "source": [
    "__2.__ Найти сумму и произведение матриц $A=\\begin{pmatrix}\n",
    "1 & -2\\\\ \n",
    "3 & 0\n",
    "\\end{pmatrix}$ и $B=\\begin{pmatrix}\n",
    "4 & -1\\\\ \n",
    "0 & 5\n",
    "\\end{pmatrix}.$"
   ]
  },
  {
   "cell_type": "markdown",
   "id": "36c87f12",
   "metadata": {},
   "source": [
    "$$\n",
    "AB = \\begin{pmatrix}\n",
    "        1*4 + -2*0 & 1*-1 + -2*5 \\\\\n",
    "        3*4 + 0*0 & 3*-1 + 0*5\n",
    "\\end{pmatrix} = \n",
    "\\begin{pmatrix}\n",
    "        4 & -11 \\\\\n",
    "        12 & -3\n",
    "\\end{pmatrix}\n",
    "$$\n",
    "        "
   ]
  },
  {
   "cell_type": "code",
   "execution_count": 35,
   "id": "4a0fb54f",
   "metadata": {},
   "outputs": [
    {
     "data": {
      "text/plain": [
       "array([[  4, -11],\n",
       "       [ 12,  -3]])"
      ]
     },
     "execution_count": 35,
     "metadata": {},
     "output_type": "execute_result"
    }
   ],
   "source": [
    "A = np.array([[1, -2], [3, 0]])\n",
    "B = np.array([[4, -1], [0, 5]])\n",
    "np.dot(A, B)"
   ]
  },
  {
   "cell_type": "markdown",
   "id": "8e1525f3",
   "metadata": {},
   "source": [
    "__3.__ Из закономерностей сложения и умножения матриц на число можно сделать вывод, что матрицы одного размера образуют линейное пространство. Вычислить линейную комбинацию $3A-2B+4C$ для матриц $A=\\begin{pmatrix}\n",
    "1 & 7\\\\ \n",
    "3 & -6\n",
    "\\end{pmatrix}$, $B=\\begin{pmatrix}\n",
    "0 & 5\\\\ \n",
    "2 & -1\n",
    "\\end{pmatrix}$, $C=\\begin{pmatrix}\n",
    "2 & -4\\\\ \n",
    "1 & 1\n",
    "\\end{pmatrix}.$"
   ]
  },
  {
   "cell_type": "markdown",
   "id": "64b3ca8d",
   "metadata": {},
   "source": [
    "$\n",
    "3 * A = \\begin{pmatrix}\n",
    "3 & 21 \\\\ \n",
    "9 & -18\n",
    "\\end{pmatrix}$\n",
    "\n",
    "$2 * B = \\begin{pmatrix}\n",
    "0 & 10 \\\\ \n",
    "4 & -2\n",
    "\\end{pmatrix}$\n",
    "\n",
    "$2 * C = \\begin{pmatrix}\n",
    "8 & -16 \\\\ \n",
    "4 & 4\n",
    "\\end{pmatrix}$"
   ]
  },
  {
   "cell_type": "markdown",
   "id": "c9b956dd",
   "metadata": {},
   "source": [
    "$3A-2B+4C = \\begin{pmatrix}\n",
    "3-0+8 & 21-10-16 \\\\ \n",
    "9-4+4 & -18+2+4\n",
    "\\end{pmatrix}= \\begin{pmatrix}\n",
    "11 & -5 \\\\ \n",
    "9 & -12\n",
    "\\end{pmatrix}$"
   ]
  },
  {
   "cell_type": "code",
   "execution_count": 39,
   "id": "0c668623",
   "metadata": {},
   "outputs": [
    {
     "data": {
      "text/plain": [
       "array([[ 11,  -5],\n",
       "       [  9, -12]])"
      ]
     },
     "execution_count": 39,
     "metadata": {},
     "output_type": "execute_result"
    }
   ],
   "source": [
    "A = np.array([[1, 7], [3, -6]])\n",
    "B = np.array([[0, 5], [2, -1]])\n",
    "C = np.array([[2, -4], [1, 1]])\n",
    "3*A - 2*B + 4*C"
   ]
  },
  {
   "cell_type": "markdown",
   "id": "9dffdf94",
   "metadata": {},
   "source": [
    "__4.__ Дана матрица $A=\\begin{pmatrix}\n",
    "4 & 1\\\\ \n",
    "5 & -2\\\\ \n",
    "2 & 3\n",
    "\\end{pmatrix}$.\n",
    "Вычислить $AA^{T}$ и $A^{T}A$."
   ]
  },
  {
   "cell_type": "markdown",
   "id": "f4ceae18",
   "metadata": {},
   "source": [
    "$AA^{T}=\\begin{pmatrix}\n",
    "4*4 + 1*1 & 4*5 + 1*-2 & 4*2 + 1*3\\\\ \n",
    "5*4 + -2*1 & 5*5 + -2*-2 & 5*2 + -2*3\\\\ \n",
    "3*4 + 3*1 & 2*5 + 3*-2 & 2*2 + 3*3\n",
    "\\end{pmatrix}$"
   ]
  },
  {
   "cell_type": "code",
   "execution_count": 43,
   "id": "9f96fbc4",
   "metadata": {},
   "outputs": [
    {
     "data": {
      "text/plain": [
       "array([[17, 18, 11],\n",
       "       [18, 29,  4],\n",
       "       [11,  4, 13]])"
      ]
     },
     "execution_count": 43,
     "metadata": {},
     "output_type": "execute_result"
    }
   ],
   "source": [
    "A = np.array([[4, 1], [5, -2], [2, 3]])\n",
    "np.dot(A, A.T)"
   ]
  },
  {
   "cell_type": "code",
   "execution_count": 44,
   "id": "5d1d02c6",
   "metadata": {},
   "outputs": [
    {
     "data": {
      "text/plain": [
       "array([[45,  0],\n",
       "       [ 0, 14]])"
      ]
     },
     "execution_count": 44,
     "metadata": {},
     "output_type": "execute_result"
    }
   ],
   "source": [
    "np.dot(A.T, A)"
   ]
  },
  {
   "cell_type": "markdown",
   "id": "03926f18",
   "metadata": {},
   "source": [
    "__5*__. Написать на Python функцию для перемножения двух произвольных матриц, не используя NumPy."
   ]
  },
  {
   "cell_type": "code",
   "execution_count": 152,
   "id": "c9d382ae",
   "metadata": {},
   "outputs": [],
   "source": [
    "def matrix_dot(A, B):\n",
    "    \"Функция умножения двух матриц\"\n",
    "    if len(A[0]) == len(B):\n",
    "        result = []\n",
    "        for a_row_num, row in enumerate(A):\n",
    "            line = []\n",
    "            for b_col_num in range(len(A)):\n",
    "                tmp = 0\n",
    "                for a_col_num, num in enumerate(row):\n",
    "                    tmp += num * B[a_col_num][b_col_num]\n",
    "                line.append(tmp)\n",
    "            result.append(line)\n",
    "    else:\n",
    "        raise RuntimeError(\"Wrong matrix size\")\n",
    "    return result"
   ]
  },
  {
   "cell_type": "code",
   "execution_count": 155,
   "id": "73f3b148",
   "metadata": {},
   "outputs": [
    {
     "data": {
      "text/plain": [
       "[[4, -11, -8], [12, -3, 12], [12, -3, 12]]"
      ]
     },
     "execution_count": 155,
     "metadata": {},
     "output_type": "execute_result"
    }
   ],
   "source": [
    "A = [[1, -2], [3, 0], [3, 0]]\n",
    "B = [[4, -1, 4], [0, 5, 6]] \n",
    "\n",
    "matrix_dot(A, B)"
   ]
  },
  {
   "cell_type": "markdown",
   "id": "59592bbe",
   "metadata": {},
   "source": [
    "### Часть 2 ###"
   ]
  },
  {
   "cell_type": "code",
   "execution_count": null,
   "id": "54f4ef09",
   "metadata": {},
   "outputs": [],
   "source": []
  }
 ],
 "metadata": {
  "kernelspec": {
   "display_name": "Python 3",
   "language": "python",
   "name": "python3"
  },
  "language_info": {
   "codemirror_mode": {
    "name": "ipython",
    "version": 3
   },
   "file_extension": ".py",
   "mimetype": "text/x-python",
   "name": "python",
   "nbconvert_exporter": "python",
   "pygments_lexer": "ipython3",
   "version": "3.8.8"
  }
 },
 "nbformat": 4,
 "nbformat_minor": 5
}
