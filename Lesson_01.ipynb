{
 "cells": [
  {
   "cell_type": "markdown",
   "id": "33df44ce",
   "metadata": {},
   "source": [
    "## Урок 1. ДЗ ##\n",
    "### Часть 1. ###\n",
    "\n",
    "<hr>\n",
    "\n",
    "__1.__ Исследовать на линейную зависимость:\n",
    "\n",
    "$$f_{1}(x)=e^{x}, f_{2}(x)=1, f_{3}(x)=x+1, f_{4}(x)=x-e^{x}.$$\n"
   ]
  },
  {
   "cell_type": "markdown",
   "id": "4ea0fbef",
   "metadata": {},
   "source": [
    "Ответ: в данном случае имеем линейную зависимость, так как можно выразить функцию f4 через разность остальных\n",
    "$$ f_{4}(x) = f_{3}(x) - f_{2}(x) - f_{1}(x)$$"
   ]
  },
  {
   "cell_type": "markdown",
   "id": "a6223dca",
   "metadata": {},
   "source": [
    "<hr>\n",
    "\n",
    "__2.__ Исследовать на линейную зависимость:\n",
    "$$f_{1}(x)=2, f_{2}(x)=x, f_{3}(x)=x^{2}, f_{4}(x)=(x+1)^{2}$$"
   ]
  },
  {
   "cell_type": "markdown",
   "id": "24747837",
   "metadata": {},
   "source": [
    "Ответ: в данном случае также имеем линейную зависимость, т.к. можно выразить ф-ю $f_{4}(x)$ как квадрат суммы\n",
    "$$ f_{4}(x) = f_{3}(x) + 2f_{2}(x) + 0.5f_{1}(x)$$"
   ]
  },
  {
   "cell_type": "markdown",
   "id": "17fed658",
   "metadata": {},
   "source": [
    "<hr>\n",
    "\n",
    "__3.__ Найти координаты вектора $x = (2, 3, 5)\\in \\mathbb{R}^{3}$ в базисе $b_{1}=(0, 0, 10)$, $b_{2}=(2, 0, 0)$, $b_{3}=(0, 1, 0)$."
   ]
  },
  {
   "cell_type": "markdown",
   "id": "5eab698b",
   "metadata": {},
   "source": [
    "$ x = (2,3,5) = (2,0,0) + (0,3,0) + (0,0,5) = 1*(2,0,0) + 3*(0,1,0) + 0.5*(0,0,10) = 1*b_{2} + 3*b_{3} + 0.5*b_{1}$\n",
    " \n",
    "координаты вектора $x$ в базисе $ (1,3,0.5) $"
   ]
  },
  {
   "cell_type": "markdown",
   "id": "10de1be0",
   "metadata": {},
   "source": [
    "<hr>\n",
    "\n",
    "\\# __4.__ Найти координаты вектора $3x^{2}-2x+2\\in\\mathbb{R}^{3}[x]$:\n",
    "\n",
    "а) в базисе $1$, $x$, $x^{2}$;\n",
    "\n",
    "б) в базисе $x^{2}$, $x-1$, $1$."
   ]
  },
  {
   "cell_type": "markdown",
   "id": "5c74cbb4",
   "metadata": {},
   "source": [
    "Ответ: \n",
    "\n",
    "a) (2, -2, 3)\n",
    "\n",
    "б) $ 3x^2 - 2x + 2 = 3x^2 -2(x + 1)$ следовательно координаты будут $ (3, -2, 0) $"
   ]
  },
  {
   "cell_type": "markdown",
   "id": "bb99c5c7",
   "metadata": {},
   "source": [
    "<hr>\n",
    "\n",
    "\\# __5.__ Установить, является ли линейным подпространством:\n",
    "\n",
    "а) совокупность всех векторов трехмерного пространства, у которых по крайней мере одна из первых двух координат равна нулю;\n",
    "    \n",
    "б) все векторы, являющиеся линейными комбинациями данных векторов $\\{u_{1}, u_{2}, \\ldots, u_{n}\\}$."
   ]
  },
  {
   "cell_type": "markdown",
   "id": "02ce7c7a",
   "metadata": {},
   "source": [
    "Ответ:\n",
    "\n",
    "а) Допустим, что $ a = (0, a_{1}, a_{2}) $ и $ b = (b_{1}, 0, b_{3}) $\n",
    "$$ a + b = (b_{1}, a_{1}, a_{3}+b_{3}) $$\n",
    "в данном случае полученный вектор не принадлежить исходному множеству $ \\Rightarrow $ исходное множество не является линейнм пространством"
   ]
  },
  {
   "cell_type": "markdown",
   "id": "246fb214",
   "metadata": {},
   "source": [
    "б)"
   ]
  },
  {
   "cell_type": "markdown",
   "id": "f8198a3d",
   "metadata": {},
   "source": [
    "### Часть 2. ###\n",
    "\n",
    "__1.__ Найти скалярное произведение векторов $x, y \\in \\mathbb{R}$:<br>\n",
    "а) $x=(0,-3, 6),~y=(-4, 7, 9);$<br>\n",
    "б) $x=(7, -4, 0, 1),~y=(-3, 1, 11, 2).$"
   ]
  },
  {
   "cell_type": "code",
   "execution_count": 1,
   "id": "b94a4569",
   "metadata": {},
   "outputs": [],
   "source": [
    "import numpy as np"
   ]
  },
  {
   "cell_type": "code",
   "execution_count": 2,
   "id": "d9f0b2f1",
   "metadata": {},
   "outputs": [],
   "source": [
    "# a)\n",
    "x = np.array([0, -3, 6])\n",
    "y = np.array([-4, 7, 9])"
   ]
  },
  {
   "cell_type": "code",
   "execution_count": 3,
   "id": "adf1fbf5",
   "metadata": {},
   "outputs": [
    {
     "data": {
      "text/plain": [
       "33"
      ]
     },
     "execution_count": 3,
     "metadata": {},
     "output_type": "execute_result"
    }
   ],
   "source": [
    "x.dot(y)"
   ]
  },
  {
   "cell_type": "code",
   "execution_count": 4,
   "id": "4bfb35fd",
   "metadata": {},
   "outputs": [],
   "source": [
    "# b)\n",
    "x = np.array([7, -4, 0, 1])\n",
    "y = np.array([-3, 1, 11, 2])"
   ]
  },
  {
   "cell_type": "code",
   "execution_count": 5,
   "id": "51fed830",
   "metadata": {},
   "outputs": [
    {
     "data": {
      "text/plain": [
       "-23"
      ]
     },
     "execution_count": 5,
     "metadata": {},
     "output_type": "execute_result"
    }
   ],
   "source": [
    "x.dot(y)"
   ]
  },
  {
   "cell_type": "markdown",
   "id": "a1b65b37",
   "metadata": {},
   "source": [
    "<hr>\n",
    "\n",
    "__2.__ Найти нормы векторов $(4, 2, 4)$ и $(12, 3, 4)$ и угол между ними."
   ]
  },
  {
   "cell_type": "code",
   "execution_count": 6,
   "id": "d91272c7",
   "metadata": {},
   "outputs": [],
   "source": [
    "x = np.array([4,2,4])\n",
    "y = np.array([12,3,4])"
   ]
  },
  {
   "cell_type": "markdown",
   "id": "f32d4a27",
   "metadata": {},
   "source": [
    "$$cos\\varphi = \\frac{(x,y)}{\\left \\|x\\right \\|\\cdot\\left \\|y\\right \\|}.$$"
   ]
  },
  {
   "cell_type": "code",
   "execution_count": 7,
   "id": "d3792314",
   "metadata": {},
   "outputs": [
    {
     "data": {
      "text/plain": [
       "(6.0, 13.0, '0.46 deg')"
      ]
     },
     "execution_count": 7,
     "metadata": {},
     "output_type": "execute_result"
    }
   ],
   "source": [
    "x_norma = np.linalg.norm(x, ord=2)\n",
    "y_norma = np.linalg.norm(y, ord=2)\n",
    "\n",
    "cos_phi = np.dot(x, y) / x_norma / y_norma\n",
    "\n",
    "x_norma, y_norma, f'{np.arccos(cos_phi):0.2f} deg'"
   ]
  },
  {
   "cell_type": "markdown",
   "id": "63fe0743",
   "metadata": {},
   "source": [
    "<hr>\n",
    "\n",
    "__3.__ Будет ли линейное пространство евклидовым, если за скалярное произведение принять:\n",
    "\n",
    "а) произведение длин векторов;\n",
    "\n",
    "б) утроенное обычное скалярное произведение векторов?"
   ]
  },
  {
   "cell_type": "markdown",
   "id": "1ca373ef",
   "metadata": {},
   "source": [
    "Ответ: \n",
    "\n",
    "а) нет, \n",
    "b) да"
   ]
  },
  {
   "cell_type": "markdown",
   "id": "b0820d11",
   "metadata": {},
   "source": [
    "<hr>\n",
    "\n",
    "__4.__ Какие из нижеперечисленных векторов образуют ортонормированный базис в линейном пространстве $\\mathbb{R}^{3}$:<br>\n",
    "а) $(1,0,0),(0,0,1);$ <br>\n",
    "б) $(1/\\sqrt{2},-1/\\sqrt{2},0),(1/\\sqrt{2},1/\\sqrt{2},0), (0,0,1);$<br>\n",
    "в) $(1/2, -1/2, 0), (0, 1/2, 1/2), (0,0,1);$<br>\n",
    "г) $(1,0,0),(0,1,0),(0,0,1)?$ "
   ]
  },
  {
   "cell_type": "code",
   "execution_count": 8,
   "id": "46e69bd5",
   "metadata": {},
   "outputs": [],
   "source": [
    "# скалярно перемножаем пары векторов. Если все равны нулю -> true\n",
    "def is_perpenlicular(x1, x2, x3):\n",
    "    return np.dot(x1,x2) == 0 and np.dot(x2,x3) == 0 and np.dot(x1,x3) == 0"
   ]
  },
  {
   "cell_type": "markdown",
   "id": "9eec29b9",
   "metadata": {},
   "source": [
    "Ответ:\n"
   ]
  },
  {
   "cell_type": "markdown",
   "id": "9cf2bac4",
   "metadata": {},
   "source": [
    "a) не образуют ортонормированный базис в линейном пространстве $\\mathbb{R}^{3}$"
   ]
  },
  {
   "cell_type": "code",
   "execution_count": 9,
   "id": "a3b3a98d",
   "metadata": {},
   "outputs": [
    {
     "name": "stdout",
     "output_type": "stream",
     "text": [
      "Образуют базис\n"
     ]
    }
   ],
   "source": [
    "# б)\n",
    "\n",
    "x1 = np.array([1/np.sqrt(2), -1/np.sqrt(2), 0])\n",
    "x2 = np.array([1/np.sqrt(2), 1/np.sqrt(2), 0])\n",
    "x3 = np.array([0, 0, 1])\n",
    "\n",
    "print(\"Образуют базис\") if is_perpenlicular(x1, x2, x3) else print(\"Не образуют базис\")"
   ]
  },
  {
   "cell_type": "code",
   "execution_count": 10,
   "id": "2d9e218c",
   "metadata": {},
   "outputs": [
    {
     "name": "stdout",
     "output_type": "stream",
     "text": [
      "Не образуют базис\n"
     ]
    }
   ],
   "source": [
    "# в)\n",
    "\n",
    "x1 = np.array([1/2, -1/2, 0])\n",
    "x2 = np.array([0,1/2, 1/2])\n",
    "x3 = np.array([0, 0, 1])\n",
    "\n",
    "print(\"Образуют базис\") if is_perpenlicular(x1, x2, x3) else print(\"Не образуют базис\")"
   ]
  },
  {
   "cell_type": "code",
   "execution_count": 11,
   "id": "099823df",
   "metadata": {},
   "outputs": [
    {
     "name": "stdout",
     "output_type": "stream",
     "text": [
      "Образуют базис\n"
     ]
    }
   ],
   "source": [
    "# г)\n",
    "\n",
    "x1 = np.array([1, 0, 0])\n",
    "x2 = np.array([0, 1, 0])\n",
    "x3 = np.array([0, 0, 1])\n",
    "\n",
    "print(\"Образуют базис\") if is_perpenlicular(x1, x2, x3) else print(\"Не образуют базис\")"
   ]
  }
 ],
 "metadata": {
  "kernelspec": {
   "display_name": "Python 3",
   "language": "python",
   "name": "python3"
  },
  "language_info": {
   "codemirror_mode": {
    "name": "ipython",
    "version": 3
   },
   "file_extension": ".py",
   "mimetype": "text/x-python",
   "name": "python",
   "nbconvert_exporter": "python",
   "pygments_lexer": "ipython3",
   "version": "3.8.8"
  }
 },
 "nbformat": 4,
 "nbformat_minor": 5
}
